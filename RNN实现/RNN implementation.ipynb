{
 "cells": [
  {
   "cell_type": "markdown",
   "id": "264044f1",
   "metadata": {
    "id": "264044f1",
    "origin_pos": 0
   },
   "source": [
    "# 循环神经网络的简洁实现\n",
    ":label:`sec_rnn-concise`\n",
    "\n",
    "虽然 :numref:`sec_rnn_scratch`\n",
    "对了解循环神经网络的实现方式具有指导意义，但并不方便。\n",
    "本节将展示如何使用深度学习框架的高级API提供的函数更有效地实现相同的语言模型。\n",
    "我们仍然从读取时光机器数据集开始。\n"
   ]
  },
  {
   "cell_type": "code",
   "execution_count": 1,
   "id": "b7af7fa9",
   "metadata": {
    "execution": {
     "iopub.execute_input": "2022-12-05T07:31:55.895459Z",
     "iopub.status.busy": "2022-12-05T07:31:55.894818Z",
     "iopub.status.idle": "2022-12-05T07:31:58.658358Z",
     "shell.execute_reply": "2022-12-05T07:31:58.657481Z"
    },
    "id": "b7af7fa9",
    "origin_pos": 2,
    "outputId": "a081a564-5902-4a7e-9e46-49d440db1b7c",
    "tab": [
     "pytorch"
    ]
   },
   "outputs": [],
   "source": [
    "import torch\n",
    "from torch import nn\n",
    "from torch.nn import functional as F\n",
    "from d2l import torch as d2l\n",
    "import DataCollect\n",
    "\n",
    "batch_size, num_steps = 32, 100\n",
    "train_iter, vocab = DataCollect.load_data_fiction(batch_size, num_steps)"
   ]
  },
  {
   "cell_type": "code",
   "execution_count": 16,
   "id": "8a5e554f",
   "metadata": {},
   "outputs": [
    {
     "name": "stdout",
     "output_type": "stream",
     "text": [
      "X:\n",
      " tensor([[622., 465., 102.,  ..., 699., 667.,  86.],\n",
      "        [  1.,   1.,   7.,  ...,   2., 811.,  30.],\n",
      "        [  5., 142.,   2.,  ..., 593.,   8., 305.],\n",
      "        ...,\n",
      "        [815., 119.,   2.,  ...,   8., 164.,   5.],\n",
      "        [821.,   3.,   1.,  ..., 172.,   8.,  12.],\n",
      "        [372., 372.,  88.,  ...,  19., 118., 365.]])\n",
      "torch.Size([32, 100])\n",
      "Y:\n",
      " tensor([[4.6500e+02, 1.0200e+02, 9.0500e+02,  ..., 6.6700e+02, 8.6000e+01,\n",
      "         6.1800e+02],\n",
      "        [1.0000e+00, 7.0000e+00, 9.0000e+00,  ..., 8.1100e+02, 3.0000e+01,\n",
      "         4.0000e+00],\n",
      "        [1.4200e+02, 2.0000e+00, 9.7000e+01,  ..., 8.0000e+00, 3.0500e+02,\n",
      "         1.1000e+01],\n",
      "        ...,\n",
      "        [1.1900e+02, 2.0000e+00, 1.8500e+02,  ..., 1.6400e+02, 5.0000e+00,\n",
      "         1.0000e+02],\n",
      "        [3.0000e+00, 1.0000e+00, 1.0000e+00,  ..., 8.0000e+00, 1.2000e+01,\n",
      "         1.0060e+03],\n",
      "        [3.7200e+02, 8.8000e+01, 2.9200e+02,  ..., 1.1800e+02, 3.6500e+02,\n",
      "         5.1000e+01]])\n",
      "torch.Size([32, 100])\n",
      "\n",
      "\n",
      "\n",
      "\n",
      "\n",
      "\n",
      "X:\n",
      " tensor([[6.1800e+02, 1.6020e+03, 6.0400e+02,  ..., 1.1700e+02, 2.0000e+01,\n",
      "         2.8170e+03],\n",
      "        [4.0000e+00, 8.0000e+00, 5.0000e+00,  ..., 1.0000e+00, 1.0000e+00,\n",
      "         1.4000e+01],\n",
      "        [1.1000e+01, 2.6000e+01, 2.1000e+01,  ..., 1.4200e+02, 1.3000e+01,\n",
      "         1.4200e+02],\n",
      "        ...,\n",
      "        [1.0000e+02, 1.8900e+02, 2.2100e+02,  ..., 5.5000e+01, 1.9000e+01,\n",
      "         1.1800e+02],\n",
      "        [1.0060e+03, 1.2740e+03, 4.1000e+01,  ..., 2.0100e+02, 2.0000e+00,\n",
      "         4.6800e+02],\n",
      "        [5.1000e+01, 2.0000e+00, 2.0200e+02,  ..., 6.7400e+02, 2.3000e+01,\n",
      "         3.0000e+00]])\n",
      "torch.Size([32, 100])\n",
      "Y:\n",
      " tensor([[1.6020e+03, 6.0400e+02, 5.9000e+01,  ..., 2.0000e+01, 2.8170e+03,\n",
      "         2.8180e+03],\n",
      "        [8.0000e+00, 5.0000e+00, 1.0000e+02,  ..., 1.0000e+00, 1.4000e+01,\n",
      "         1.7100e+02],\n",
      "        [2.6000e+01, 2.1000e+01, 6.9000e+01,  ..., 1.3000e+01, 1.4200e+02,\n",
      "         2.0000e+00],\n",
      "        ...,\n",
      "        [1.8900e+02, 2.2100e+02, 3.5000e+01,  ..., 1.9000e+01, 1.1800e+02,\n",
      "         1.0060e+03],\n",
      "        [1.2740e+03, 4.1000e+01, 2.6400e+02,  ..., 2.0000e+00, 4.6800e+02,\n",
      "         8.1200e+02],\n",
      "        [2.0000e+00, 2.0200e+02, 9.5400e+02,  ..., 2.3000e+01, 3.0000e+00,\n",
      "         1.0000e+00]])\n",
      "torch.Size([32, 100])\n",
      "\n",
      "\n",
      "\n",
      "\n",
      "\n",
      "\n",
      "X:\n",
      " tensor([[2.8180e+03, 3.6000e+01, 2.9000e+01,  ..., 2.5100e+02, 9.1000e+01,\n",
      "         1.7800e+02],\n",
      "        [1.7100e+02, 1.9000e+01, 3.7300e+02,  ..., 2.2240e+03, 2.3000e+01,\n",
      "         3.0000e+00],\n",
      "        [2.0000e+00, 2.2000e+01, 1.0500e+02,  ..., 7.3400e+02, 2.8000e+02,\n",
      "         4.9000e+01],\n",
      "        ...,\n",
      "        [1.0060e+03, 5.5600e+02, 2.0100e+02,  ..., 2.9000e+01, 4.9400e+02,\n",
      "         1.4230e+03],\n",
      "        [8.1200e+02, 2.7000e+02, 3.6900e+02,  ..., 1.0400e+02, 1.2800e+02,\n",
      "         1.0480e+03],\n",
      "        [1.0000e+00, 1.0000e+00, 1.2700e+02,  ..., 2.1000e+01, 4.3000e+01,\n",
      "         4.2900e+02]])\n",
      "torch.Size([32, 100])\n",
      "Y:\n",
      " tensor([[3.6000e+01, 2.9000e+01, 2.0000e+00,  ..., 9.1000e+01, 1.7800e+02,\n",
      "         9.7000e+01],\n",
      "        [1.9000e+01, 3.7300e+02, 5.3300e+02,  ..., 2.3000e+01, 3.0000e+00,\n",
      "         1.0000e+00],\n",
      "        [2.2000e+01, 1.0500e+02, 5.8000e+01,  ..., 2.8000e+02, 4.9000e+01,\n",
      "         6.7000e+01],\n",
      "        ...,\n",
      "        [5.5600e+02, 2.0100e+02, 8.9300e+02,  ..., 4.9400e+02, 1.4230e+03,\n",
      "         4.0000e+00],\n",
      "        [2.7000e+02, 3.6900e+02, 5.6200e+02,  ..., 1.2800e+02, 1.0480e+03,\n",
      "         6.3000e+01],\n",
      "        [1.0000e+00, 1.2700e+02, 1.2700e+02,  ..., 4.3000e+01, 4.2900e+02,\n",
      "         1.9000e+01]])\n",
      "torch.Size([32, 100])\n",
      "\n",
      "\n",
      "\n",
      "\n",
      "\n",
      "\n"
     ]
    }
   ],
   "source": [
    "for X, Y in train_iter:\n",
    "    print(\"X:\\n\", X)\n",
    "    print(X.shape)\n",
    "    print(\"Y:\\n\", Y)\n",
    "    print(Y.shape)\n",
    "    print(\"\\n\"*5)"
   ]
  },
  {
   "cell_type": "code",
   "execution_count": 6,
   "id": "37f571bd",
   "metadata": {},
   "outputs": [
    {
     "name": "stdout",
     "output_type": "stream",
     "text": [
      "1\n"
     ]
    }
   ],
   "source": [
    "print(1)"
   ]
  },
  {
   "cell_type": "markdown",
   "id": "7cc195ca",
   "metadata": {
    "id": "7cc195ca",
    "origin_pos": 5
   },
   "source": [
    "## [**定义模型**]\n",
    "\n",
    "高级API提供了循环神经网络的实现。\n",
    "我们构造一个具有256个隐藏单元的单隐藏层的循环神经网络层`rnn_layer`。\n",
    "事实上，我们还没有讨论多层循环神经网络的意义（这将在 :numref:`sec_deep_rnn`中介绍）。\n",
    "现在仅需要将多层理解为一层循环神经网络的输出被用作下一层循环神经网络的输入就足够了。\n"
   ]
  },
  {
   "cell_type": "code",
   "execution_count": 2,
   "id": "732abbfd",
   "metadata": {
    "execution": {
     "iopub.execute_input": "2022-12-05T07:31:58.662408Z",
     "iopub.status.busy": "2022-12-05T07:31:58.661734Z",
     "iopub.status.idle": "2022-12-05T07:31:58.686519Z",
     "shell.execute_reply": "2022-12-05T07:31:58.685661Z"
    },
    "id": "732abbfd",
    "origin_pos": 7,
    "tab": [
     "pytorch"
    ]
   },
   "outputs": [],
   "source": [
    "num_hiddens = 1024\n",
    "rnn_layer = nn.RNN(len(vocab), num_hiddens)"
   ]
  },
  {
   "cell_type": "markdown",
   "id": "13561c45",
   "metadata": {
    "id": "13561c45",
    "origin_pos": 11,
    "tab": [
     "pytorch"
    ]
   },
   "source": [
    "我们(**使用张量来初始化隐状态**)，它的形状是（隐藏层数，批量大小，隐藏单元数）。\n"
   ]
  },
  {
   "cell_type": "code",
   "execution_count": 3,
   "id": "c6beea58",
   "metadata": {
    "execution": {
     "iopub.execute_input": "2022-12-05T07:31:58.689983Z",
     "iopub.status.busy": "2022-12-05T07:31:58.689536Z",
     "iopub.status.idle": "2022-12-05T07:31:58.696878Z",
     "shell.execute_reply": "2022-12-05T07:31:58.696076Z"
    },
    "id": "c6beea58",
    "origin_pos": 13,
    "outputId": "cbb162b2-6e25-4371-b4ca-e289ecf89d07",
    "tab": [
     "pytorch"
    ]
   },
   "outputs": [
    {
     "data": {
      "text/plain": "torch.Size([1, 32, 1024])"
     },
     "execution_count": 3,
     "metadata": {},
     "output_type": "execute_result"
    }
   ],
   "source": [
    "state = torch.zeros((1, batch_size, num_hiddens))\n",
    "state.shape"
   ]
  },
  {
   "cell_type": "markdown",
   "id": "c38b1cf4",
   "metadata": {
    "id": "c38b1cf4",
    "origin_pos": 16
   },
   "source": [
    "[**通过一个隐状态和一个输入，我们就可以用更新后的隐状态计算输出。**]\n",
    "需要强调的是，`rnn_layer`的“输出”（`Y`）不涉及输出层的计算：\n",
    "它是指每个时间步的隐状态，这些隐状态可以用作后续输出层的输入。\n"
   ]
  },
  {
   "cell_type": "code",
   "execution_count": 4,
   "id": "4cca9506",
   "metadata": {
    "execution": {
     "iopub.execute_input": "2022-12-05T07:31:58.700144Z",
     "iopub.status.busy": "2022-12-05T07:31:58.699717Z",
     "iopub.status.idle": "2022-12-05T07:31:58.713992Z",
     "shell.execute_reply": "2022-12-05T07:31:58.713237Z"
    },
    "id": "4cca9506",
    "origin_pos": 19,
    "outputId": "a4b27497-49c4-4c79-f991-80f4920f4f13",
    "tab": [
     "pytorch"
    ]
   },
   "outputs": [
    {
     "data": {
      "text/plain": "(torch.Size([100, 32, 1024]), torch.Size([1, 32, 1024]))"
     },
     "execution_count": 4,
     "metadata": {},
     "output_type": "execute_result"
    }
   ],
   "source": [
    "X = torch.rand(size=(num_steps, batch_size, len(vocab)))\n",
    "Y, state_new = rnn_layer(X, state)\n",
    "Y.shape, state_new.shape"
   ]
  },
  {
   "cell_type": "markdown",
   "id": "d46156a7",
   "metadata": {
    "id": "d46156a7",
    "origin_pos": 22
   },
   "source": [
    "与 :numref:`sec_rnn_scratch`类似，\n",
    "[**我们为一个完整的循环神经网络模型定义了一个`RNNModel`类**]。\n",
    "注意，`rnn_layer`只包含隐藏的循环层，我们还需要创建一个单独的输出层。\n"
   ]
  },
  {
   "cell_type": "code",
   "execution_count": 5,
   "id": "4a2f52ec",
   "metadata": {
    "execution": {
     "iopub.execute_input": "2022-12-05T07:31:58.717327Z",
     "iopub.status.busy": "2022-12-05T07:31:58.716889Z",
     "iopub.status.idle": "2022-12-05T07:31:58.726232Z",
     "shell.execute_reply": "2022-12-05T07:31:58.725459Z"
    },
    "id": "4a2f52ec",
    "origin_pos": 24,
    "tab": [
     "pytorch"
    ]
   },
   "outputs": [],
   "source": [
    "#@save\n",
    "class RNNModel(nn.Module):\n",
    "    \"\"\"循环神经网络模型\"\"\"\n",
    "    def __init__(self, rnn_layer, vocab_size, **kwargs):\n",
    "        super(RNNModel, self).__init__(**kwargs)\n",
    "        self.rnn = rnn_layer\n",
    "        self.vocab_size = vocab_size\n",
    "        self.num_hiddens = self.rnn.hidden_size\n",
    "        # 如果RNN是双向的（之后将介绍），num_directions应该是2，否则应该是1\n",
    "        if not self.rnn.bidirectional:\n",
    "            self.num_directions = 1\n",
    "            self.linear = nn.Linear(self.num_hiddens, self.vocab_size)\n",
    "        else:\n",
    "            self.num_directions = 2\n",
    "            self.linear = nn.Linear(self.num_hiddens * 2, self.vocab_size)\n",
    "\n",
    "    def forward(self, inputs, state):\n",
    "        X = F.one_hot(inputs.T.long(), self.vocab_size)\n",
    "        X = X.to(torch.float32)\n",
    "        Y, state = self.rnn(X, state)\n",
    "        # 全连接层首先将Y的形状改为(时间步数*批量大小,隐藏单元数)\n",
    "        # 它的输出形状是(时间步数*批量大小,词表大小)。\n",
    "        output = self.linear(Y.reshape((-1, Y.shape[-1])))\n",
    "        return output, state\n",
    "\n",
    "    def begin_state(self, device, batch_size=1):\n",
    "        if not isinstance(self.rnn, nn.LSTM):\n",
    "            # nn.GRU以张量作为隐状态\n",
    "            return  torch.zeros((self.num_directions * self.rnn.num_layers,\n",
    "                                 batch_size, self.num_hiddens),\n",
    "                                device=device)\n",
    "        else:\n",
    "            # nn.LSTM以元组作为隐状态\n",
    "            return (torch.zeros((\n",
    "                self.num_directions * self.rnn.num_layers,\n",
    "                batch_size, self.num_hiddens), device=device),\n",
    "                    torch.zeros((\n",
    "                        self.num_directions * self.rnn.num_layers,\n",
    "                        batch_size, self.num_hiddens), device=device))"
   ]
  },
  {
   "cell_type": "markdown",
   "id": "1ce429da",
   "metadata": {
    "id": "1ce429da",
    "origin_pos": 27
   },
   "source": [
    "## 训练与预测\n",
    "\n",
    "在训练模型之前，让我们[**基于一个具有随机权重的模型进行预测**]。\n"
   ]
  },
  {
   "cell_type": "code",
   "execution_count": 6,
   "id": "3632ba29",
   "metadata": {
    "execution": {
     "iopub.execute_input": "2022-12-05T07:31:58.729652Z",
     "iopub.status.busy": "2022-12-05T07:31:58.729024Z",
     "iopub.status.idle": "2022-12-05T07:32:02.792206Z",
     "shell.execute_reply": "2022-12-05T07:32:02.791389Z"
    },
    "id": "3632ba29",
    "origin_pos": 29,
    "outputId": "9d6876b9-a58b-48eb-d759-fe0eb351894f",
    "tab": [
     "pytorch"
    ]
   },
   "outputs": [
    {
     "data": {
      "text/plain": "'地球峒读仒刺刺椰夸仒谮刺'"
     },
     "execution_count": 6,
     "metadata": {},
     "output_type": "execute_result"
    }
   ],
   "source": [
    "device = d2l.try_gpu()\n",
    "net = RNNModel(rnn_layer, vocab_size=len(vocab))\n",
    "net = net.to(device)\n",
    "d2l.predict_ch8('地球', 10, net, vocab, device)"
   ]
  },
  {
   "cell_type": "code",
   "execution_count": null,
   "id": "c8d83a14",
   "metadata": {},
   "outputs": [],
   "source": []
  },
  {
   "cell_type": "markdown",
   "id": "1bc60af6",
   "metadata": {
    "id": "1bc60af6",
    "origin_pos": 32
   },
   "source": [
    "很明显，这种模型根本不能输出好的结果。\n",
    "接下来，我们使用 :numref:`sec_rnn_scratch`中\n",
    "定义的超参数调用`train_ch8`，并且[**使用高级API训练模型**]。\n"
   ]
  },
  {
   "cell_type": "code",
   "execution_count": 7,
   "id": "d6c4599c",
   "metadata": {
    "execution": {
     "iopub.execute_input": "2022-12-05T07:32:02.795644Z",
     "iopub.status.busy": "2022-12-05T07:32:02.795179Z",
     "iopub.status.idle": "2022-12-05T07:32:25.789798Z",
     "shell.execute_reply": "2022-12-05T07:32:25.788849Z"
    },
    "id": "d6c4599c",
    "origin_pos": 34,
    "outputId": "44653107-e3d2-4a9d-f023-15812cfd7868",
    "tab": [
     "pytorch"
    ]
   },
   "outputs": [
    {
     "name": "stdout",
     "output_type": "stream",
     "text": [
      "地球鉴欢琉弧欢鉴欢奎星揭玥鉴琉琉宛芩奎琉拘欢奎星砚域奎星郎欢奎星郎欢奎星郎欢萦奎奎弁奎奎弁奎奎弁奎奎弁奎\n"
     ]
    },
    {
     "ename": "KeyboardInterrupt",
     "evalue": "",
     "output_type": "error",
     "traceback": [
      "\u001B[1;31m---------------------------------------------------------------------------\u001B[0m",
      "\u001B[1;31mKeyboardInterrupt\u001B[0m                         Traceback (most recent call last)",
      "Cell \u001B[1;32mIn [7], line 3\u001B[0m\n\u001B[0;32m      1\u001B[0m num_epochs, lr \u001B[39m=\u001B[39m \u001B[39m50000\u001B[39m, \u001B[39m1\u001B[39m\n\u001B[0;32m      2\u001B[0m \u001B[39m# net.load_state_dict(torch.load(weight_path))\u001B[39;00m\n\u001B[1;32m----> 3\u001B[0m d2l\u001B[39m.\u001B[39;49mtrain_ch8(net, train_iter, vocab, lr, num_epochs, device)\n",
      "File \u001B[1;32mc:\\Users\\23174\\anaconda3\\envs\\pytorch\\lib\\site-packages\\d2l\\torch.py:802\u001B[0m, in \u001B[0;36mtrain_ch8\u001B[1;34m(net, train_iter, vocab, lr, num_epochs, device, use_random_iter)\u001B[0m\n\u001B[0;32m    800\u001B[0m     \u001B[39mif\u001B[39;00m (epoch \u001B[39m+\u001B[39m \u001B[39m1\u001B[39m) \u001B[39m%\u001B[39m \u001B[39m10\u001B[39m \u001B[39m==\u001B[39m \u001B[39m0\u001B[39m:\n\u001B[0;32m    801\u001B[0m         \u001B[39mprint\u001B[39m(predict(\u001B[39m'\u001B[39m\u001B[39m地球\u001B[39m\u001B[39m'\u001B[39m))\n\u001B[1;32m--> 802\u001B[0m         animator\u001B[39m.\u001B[39;49madd(epoch \u001B[39m+\u001B[39;49m \u001B[39m1\u001B[39;49m, [ppl])\n\u001B[0;32m    803\u001B[0m \u001B[39mprint\u001B[39m(\u001B[39mf\u001B[39m\u001B[39m'\u001B[39m\u001B[39mperplexity \u001B[39m\u001B[39m{\u001B[39;00mppl\u001B[39m:\u001B[39;00m\u001B[39m.1f\u001B[39m\u001B[39m}\u001B[39;00m\u001B[39m, \u001B[39m\u001B[39m{\u001B[39;00mspeed\u001B[39m:\u001B[39;00m\u001B[39m.1f\u001B[39m\u001B[39m}\u001B[39;00m\u001B[39m tokens/sec on \u001B[39m\u001B[39m{\u001B[39;00m\u001B[39mstr\u001B[39m(device)\u001B[39m}\u001B[39;00m\u001B[39m'\u001B[39m)\n\u001B[0;32m    804\u001B[0m \u001B[39mprint\u001B[39m(predict(\u001B[39m'\u001B[39m\u001B[39m地球\u001B[39m\u001B[39m'\u001B[39m))\n",
      "File \u001B[1;32mc:\\Users\\23174\\anaconda3\\envs\\pytorch\\lib\\site-packages\\d2l\\torch.py:326\u001B[0m, in \u001B[0;36mAnimator.add\u001B[1;34m(self, x, y)\u001B[0m\n\u001B[0;32m    324\u001B[0m     \u001B[39mself\u001B[39m\u001B[39m.\u001B[39maxes[\u001B[39m0\u001B[39m]\u001B[39m.\u001B[39mplot(x, y, fmt)\n\u001B[0;32m    325\u001B[0m \u001B[39mself\u001B[39m\u001B[39m.\u001B[39mconfig_axes()\n\u001B[1;32m--> 326\u001B[0m display\u001B[39m.\u001B[39;49mdisplay(\u001B[39mself\u001B[39;49m\u001B[39m.\u001B[39;49mfig)\n\u001B[0;32m    327\u001B[0m display\u001B[39m.\u001B[39mclear_output(wait\u001B[39m=\u001B[39m\u001B[39mTrue\u001B[39;00m)\n",
      "File \u001B[1;32mc:\\Users\\23174\\anaconda3\\envs\\pytorch\\lib\\site-packages\\IPython\\core\\display_functions.py:298\u001B[0m, in \u001B[0;36mdisplay\u001B[1;34m(include, exclude, metadata, transient, display_id, raw, clear, *objs, **kwargs)\u001B[0m\n\u001B[0;32m    296\u001B[0m     publish_display_data(data\u001B[39m=\u001B[39mobj, metadata\u001B[39m=\u001B[39mmetadata, \u001B[39m*\u001B[39m\u001B[39m*\u001B[39mkwargs)\n\u001B[0;32m    297\u001B[0m \u001B[39melse\u001B[39;00m:\n\u001B[1;32m--> 298\u001B[0m     format_dict, md_dict \u001B[39m=\u001B[39m \u001B[39mformat\u001B[39;49m(obj, include\u001B[39m=\u001B[39;49minclude, exclude\u001B[39m=\u001B[39;49mexclude)\n\u001B[0;32m    299\u001B[0m     \u001B[39mif\u001B[39;00m \u001B[39mnot\u001B[39;00m format_dict:\n\u001B[0;32m    300\u001B[0m         \u001B[39m# nothing to display (e.g. _ipython_display_ took over)\u001B[39;00m\n\u001B[0;32m    301\u001B[0m         \u001B[39mcontinue\u001B[39;00m\n",
      "File \u001B[1;32mc:\\Users\\23174\\anaconda3\\envs\\pytorch\\lib\\site-packages\\IPython\\core\\formatters.py:177\u001B[0m, in \u001B[0;36mDisplayFormatter.format\u001B[1;34m(self, obj, include, exclude)\u001B[0m\n\u001B[0;32m    175\u001B[0m md \u001B[39m=\u001B[39m \u001B[39mNone\u001B[39;00m\n\u001B[0;32m    176\u001B[0m \u001B[39mtry\u001B[39;00m:\n\u001B[1;32m--> 177\u001B[0m     data \u001B[39m=\u001B[39m formatter(obj)\n\u001B[0;32m    178\u001B[0m \u001B[39mexcept\u001B[39;00m:\n\u001B[0;32m    179\u001B[0m     \u001B[39m# FIXME: log the exception\u001B[39;00m\n\u001B[0;32m    180\u001B[0m     \u001B[39mraise\u001B[39;00m\n",
      "File \u001B[1;32mc:\\Users\\23174\\anaconda3\\envs\\pytorch\\lib\\site-packages\\decorator.py:232\u001B[0m, in \u001B[0;36mdecorate.<locals>.fun\u001B[1;34m(*args, **kw)\u001B[0m\n\u001B[0;32m    230\u001B[0m \u001B[39mif\u001B[39;00m \u001B[39mnot\u001B[39;00m kwsyntax:\n\u001B[0;32m    231\u001B[0m     args, kw \u001B[39m=\u001B[39m fix(args, kw, sig)\n\u001B[1;32m--> 232\u001B[0m \u001B[39mreturn\u001B[39;00m caller(func, \u001B[39m*\u001B[39m(extras \u001B[39m+\u001B[39m args), \u001B[39m*\u001B[39m\u001B[39m*\u001B[39mkw)\n",
      "File \u001B[1;32mc:\\Users\\23174\\anaconda3\\envs\\pytorch\\lib\\site-packages\\IPython\\core\\formatters.py:221\u001B[0m, in \u001B[0;36mcatch_format_error\u001B[1;34m(method, self, *args, **kwargs)\u001B[0m\n\u001B[0;32m    219\u001B[0m \u001B[39m\"\"\"show traceback on failed format call\"\"\"\u001B[39;00m\n\u001B[0;32m    220\u001B[0m \u001B[39mtry\u001B[39;00m:\n\u001B[1;32m--> 221\u001B[0m     r \u001B[39m=\u001B[39m method(\u001B[39mself\u001B[39m, \u001B[39m*\u001B[39margs, \u001B[39m*\u001B[39m\u001B[39m*\u001B[39mkwargs)\n\u001B[0;32m    222\u001B[0m \u001B[39mexcept\u001B[39;00m \u001B[39mNotImplementedError\u001B[39;00m:\n\u001B[0;32m    223\u001B[0m     \u001B[39m# don't warn on NotImplementedErrors\u001B[39;00m\n\u001B[0;32m    224\u001B[0m     \u001B[39mreturn\u001B[39;00m \u001B[39mself\u001B[39m\u001B[39m.\u001B[39m_check_return(\u001B[39mNone\u001B[39;00m, args[\u001B[39m0\u001B[39m])\n",
      "File \u001B[1;32mc:\\Users\\23174\\anaconda3\\envs\\pytorch\\lib\\site-packages\\IPython\\core\\formatters.py:338\u001B[0m, in \u001B[0;36mBaseFormatter.__call__\u001B[1;34m(self, obj)\u001B[0m\n\u001B[0;32m    336\u001B[0m     \u001B[39mpass\u001B[39;00m\n\u001B[0;32m    337\u001B[0m \u001B[39melse\u001B[39;00m:\n\u001B[1;32m--> 338\u001B[0m     \u001B[39mreturn\u001B[39;00m printer(obj)\n\u001B[0;32m    339\u001B[0m \u001B[39m# Finally look for special method names\u001B[39;00m\n\u001B[0;32m    340\u001B[0m method \u001B[39m=\u001B[39m get_real_method(obj, \u001B[39mself\u001B[39m\u001B[39m.\u001B[39mprint_method)\n",
      "File \u001B[1;32mc:\\Users\\23174\\anaconda3\\envs\\pytorch\\lib\\site-packages\\IPython\\core\\pylabtools.py:152\u001B[0m, in \u001B[0;36mprint_figure\u001B[1;34m(fig, fmt, bbox_inches, base64, **kwargs)\u001B[0m\n\u001B[0;32m    149\u001B[0m     \u001B[39mfrom\u001B[39;00m \u001B[39mmatplotlib\u001B[39;00m\u001B[39m.\u001B[39;00m\u001B[39mbackend_bases\u001B[39;00m \u001B[39mimport\u001B[39;00m FigureCanvasBase\n\u001B[0;32m    150\u001B[0m     FigureCanvasBase(fig)\n\u001B[1;32m--> 152\u001B[0m fig\u001B[39m.\u001B[39mcanvas\u001B[39m.\u001B[39mprint_figure(bytes_io, \u001B[39m*\u001B[39m\u001B[39m*\u001B[39mkw)\n\u001B[0;32m    153\u001B[0m data \u001B[39m=\u001B[39m bytes_io\u001B[39m.\u001B[39mgetvalue()\n\u001B[0;32m    154\u001B[0m \u001B[39mif\u001B[39;00m fmt \u001B[39m==\u001B[39m \u001B[39m'\u001B[39m\u001B[39msvg\u001B[39m\u001B[39m'\u001B[39m:\n",
      "File \u001B[1;32mc:\\Users\\23174\\anaconda3\\envs\\pytorch\\lib\\site-packages\\matplotlib\\backend_bases.py:2295\u001B[0m, in \u001B[0;36mFigureCanvasBase.print_figure\u001B[1;34m(self, filename, dpi, facecolor, edgecolor, orientation, format, bbox_inches, pad_inches, bbox_extra_artists, backend, **kwargs)\u001B[0m\n\u001B[0;32m   2289\u001B[0m     renderer \u001B[39m=\u001B[39m _get_renderer(\n\u001B[0;32m   2290\u001B[0m         \u001B[39mself\u001B[39m\u001B[39m.\u001B[39mfigure,\n\u001B[0;32m   2291\u001B[0m         functools\u001B[39m.\u001B[39mpartial(\n\u001B[0;32m   2292\u001B[0m             print_method, orientation\u001B[39m=\u001B[39morientation)\n\u001B[0;32m   2293\u001B[0m     )\n\u001B[0;32m   2294\u001B[0m     \u001B[39mwith\u001B[39;00m \u001B[39mgetattr\u001B[39m(renderer, \u001B[39m\"\u001B[39m\u001B[39m_draw_disabled\u001B[39m\u001B[39m\"\u001B[39m, nullcontext)():\n\u001B[1;32m-> 2295\u001B[0m         \u001B[39mself\u001B[39;49m\u001B[39m.\u001B[39;49mfigure\u001B[39m.\u001B[39;49mdraw(renderer)\n\u001B[0;32m   2297\u001B[0m \u001B[39mif\u001B[39;00m bbox_inches:\n\u001B[0;32m   2298\u001B[0m     \u001B[39mif\u001B[39;00m bbox_inches \u001B[39m==\u001B[39m \u001B[39m\"\u001B[39m\u001B[39mtight\u001B[39m\u001B[39m\"\u001B[39m:\n",
      "File \u001B[1;32mc:\\Users\\23174\\anaconda3\\envs\\pytorch\\lib\\site-packages\\matplotlib\\artist.py:73\u001B[0m, in \u001B[0;36m_finalize_rasterization.<locals>.draw_wrapper\u001B[1;34m(artist, renderer, *args, **kwargs)\u001B[0m\n\u001B[0;32m     71\u001B[0m \u001B[39m@wraps\u001B[39m(draw)\n\u001B[0;32m     72\u001B[0m \u001B[39mdef\u001B[39;00m \u001B[39mdraw_wrapper\u001B[39m(artist, renderer, \u001B[39m*\u001B[39margs, \u001B[39m*\u001B[39m\u001B[39m*\u001B[39mkwargs):\n\u001B[1;32m---> 73\u001B[0m     result \u001B[39m=\u001B[39m draw(artist, renderer, \u001B[39m*\u001B[39margs, \u001B[39m*\u001B[39m\u001B[39m*\u001B[39mkwargs)\n\u001B[0;32m     74\u001B[0m     \u001B[39mif\u001B[39;00m renderer\u001B[39m.\u001B[39m_rasterizing:\n\u001B[0;32m     75\u001B[0m         renderer\u001B[39m.\u001B[39mstop_rasterizing()\n",
      "File \u001B[1;32mc:\\Users\\23174\\anaconda3\\envs\\pytorch\\lib\\site-packages\\matplotlib\\artist.py:50\u001B[0m, in \u001B[0;36mallow_rasterization.<locals>.draw_wrapper\u001B[1;34m(artist, renderer)\u001B[0m\n\u001B[0;32m     47\u001B[0m     \u001B[39mif\u001B[39;00m artist\u001B[39m.\u001B[39mget_agg_filter() \u001B[39mis\u001B[39;00m \u001B[39mnot\u001B[39;00m \u001B[39mNone\u001B[39;00m:\n\u001B[0;32m     48\u001B[0m         renderer\u001B[39m.\u001B[39mstart_filter()\n\u001B[1;32m---> 50\u001B[0m     \u001B[39mreturn\u001B[39;00m draw(artist, renderer)\n\u001B[0;32m     51\u001B[0m \u001B[39mfinally\u001B[39;00m:\n\u001B[0;32m     52\u001B[0m     \u001B[39mif\u001B[39;00m artist\u001B[39m.\u001B[39mget_agg_filter() \u001B[39mis\u001B[39;00m \u001B[39mnot\u001B[39;00m \u001B[39mNone\u001B[39;00m:\n",
      "File \u001B[1;32mc:\\Users\\23174\\anaconda3\\envs\\pytorch\\lib\\site-packages\\matplotlib\\figure.py:2810\u001B[0m, in \u001B[0;36mFigure.draw\u001B[1;34m(self, renderer)\u001B[0m\n\u001B[0;32m   2807\u001B[0m         \u001B[39m# ValueError can occur when resizing a window.\u001B[39;00m\n\u001B[0;32m   2809\u001B[0m \u001B[39mself\u001B[39m\u001B[39m.\u001B[39mpatch\u001B[39m.\u001B[39mdraw(renderer)\n\u001B[1;32m-> 2810\u001B[0m mimage\u001B[39m.\u001B[39;49m_draw_list_compositing_images(\n\u001B[0;32m   2811\u001B[0m     renderer, \u001B[39mself\u001B[39;49m, artists, \u001B[39mself\u001B[39;49m\u001B[39m.\u001B[39;49msuppressComposite)\n\u001B[0;32m   2813\u001B[0m \u001B[39mfor\u001B[39;00m sfig \u001B[39min\u001B[39;00m \u001B[39mself\u001B[39m\u001B[39m.\u001B[39msubfigs:\n\u001B[0;32m   2814\u001B[0m     sfig\u001B[39m.\u001B[39mdraw(renderer)\n",
      "File \u001B[1;32mc:\\Users\\23174\\anaconda3\\envs\\pytorch\\lib\\site-packages\\matplotlib\\image.py:132\u001B[0m, in \u001B[0;36m_draw_list_compositing_images\u001B[1;34m(renderer, parent, artists, suppress_composite)\u001B[0m\n\u001B[0;32m    130\u001B[0m \u001B[39mif\u001B[39;00m not_composite \u001B[39mor\u001B[39;00m \u001B[39mnot\u001B[39;00m has_images:\n\u001B[0;32m    131\u001B[0m     \u001B[39mfor\u001B[39;00m a \u001B[39min\u001B[39;00m artists:\n\u001B[1;32m--> 132\u001B[0m         a\u001B[39m.\u001B[39;49mdraw(renderer)\n\u001B[0;32m    133\u001B[0m \u001B[39melse\u001B[39;00m:\n\u001B[0;32m    134\u001B[0m     \u001B[39m# Composite any adjacent images together\u001B[39;00m\n\u001B[0;32m    135\u001B[0m     image_group \u001B[39m=\u001B[39m []\n",
      "File \u001B[1;32mc:\\Users\\23174\\anaconda3\\envs\\pytorch\\lib\\site-packages\\matplotlib\\artist.py:50\u001B[0m, in \u001B[0;36mallow_rasterization.<locals>.draw_wrapper\u001B[1;34m(artist, renderer)\u001B[0m\n\u001B[0;32m     47\u001B[0m     \u001B[39mif\u001B[39;00m artist\u001B[39m.\u001B[39mget_agg_filter() \u001B[39mis\u001B[39;00m \u001B[39mnot\u001B[39;00m \u001B[39mNone\u001B[39;00m:\n\u001B[0;32m     48\u001B[0m         renderer\u001B[39m.\u001B[39mstart_filter()\n\u001B[1;32m---> 50\u001B[0m     \u001B[39mreturn\u001B[39;00m draw(artist, renderer)\n\u001B[0;32m     51\u001B[0m \u001B[39mfinally\u001B[39;00m:\n\u001B[0;32m     52\u001B[0m     \u001B[39mif\u001B[39;00m artist\u001B[39m.\u001B[39mget_agg_filter() \u001B[39mis\u001B[39;00m \u001B[39mnot\u001B[39;00m \u001B[39mNone\u001B[39;00m:\n",
      "File \u001B[1;32mc:\\Users\\23174\\anaconda3\\envs\\pytorch\\lib\\site-packages\\matplotlib\\axes\\_base.py:3082\u001B[0m, in \u001B[0;36m_AxesBase.draw\u001B[1;34m(self, renderer)\u001B[0m\n\u001B[0;32m   3079\u001B[0m         a\u001B[39m.\u001B[39mdraw(renderer)\n\u001B[0;32m   3080\u001B[0m     renderer\u001B[39m.\u001B[39mstop_rasterizing()\n\u001B[1;32m-> 3082\u001B[0m mimage\u001B[39m.\u001B[39;49m_draw_list_compositing_images(\n\u001B[0;32m   3083\u001B[0m     renderer, \u001B[39mself\u001B[39;49m, artists, \u001B[39mself\u001B[39;49m\u001B[39m.\u001B[39;49mfigure\u001B[39m.\u001B[39;49msuppressComposite)\n\u001B[0;32m   3085\u001B[0m renderer\u001B[39m.\u001B[39mclose_group(\u001B[39m'\u001B[39m\u001B[39maxes\u001B[39m\u001B[39m'\u001B[39m)\n\u001B[0;32m   3086\u001B[0m \u001B[39mself\u001B[39m\u001B[39m.\u001B[39mstale \u001B[39m=\u001B[39m \u001B[39mFalse\u001B[39;00m\n",
      "File \u001B[1;32mc:\\Users\\23174\\anaconda3\\envs\\pytorch\\lib\\site-packages\\matplotlib\\image.py:132\u001B[0m, in \u001B[0;36m_draw_list_compositing_images\u001B[1;34m(renderer, parent, artists, suppress_composite)\u001B[0m\n\u001B[0;32m    130\u001B[0m \u001B[39mif\u001B[39;00m not_composite \u001B[39mor\u001B[39;00m \u001B[39mnot\u001B[39;00m has_images:\n\u001B[0;32m    131\u001B[0m     \u001B[39mfor\u001B[39;00m a \u001B[39min\u001B[39;00m artists:\n\u001B[1;32m--> 132\u001B[0m         a\u001B[39m.\u001B[39;49mdraw(renderer)\n\u001B[0;32m    133\u001B[0m \u001B[39melse\u001B[39;00m:\n\u001B[0;32m    134\u001B[0m     \u001B[39m# Composite any adjacent images together\u001B[39;00m\n\u001B[0;32m    135\u001B[0m     image_group \u001B[39m=\u001B[39m []\n",
      "File \u001B[1;32mc:\\Users\\23174\\anaconda3\\envs\\pytorch\\lib\\site-packages\\matplotlib\\artist.py:50\u001B[0m, in \u001B[0;36mallow_rasterization.<locals>.draw_wrapper\u001B[1;34m(artist, renderer)\u001B[0m\n\u001B[0;32m     47\u001B[0m     \u001B[39mif\u001B[39;00m artist\u001B[39m.\u001B[39mget_agg_filter() \u001B[39mis\u001B[39;00m \u001B[39mnot\u001B[39;00m \u001B[39mNone\u001B[39;00m:\n\u001B[0;32m     48\u001B[0m         renderer\u001B[39m.\u001B[39mstart_filter()\n\u001B[1;32m---> 50\u001B[0m     \u001B[39mreturn\u001B[39;00m draw(artist, renderer)\n\u001B[0;32m     51\u001B[0m \u001B[39mfinally\u001B[39;00m:\n\u001B[0;32m     52\u001B[0m     \u001B[39mif\u001B[39;00m artist\u001B[39m.\u001B[39mget_agg_filter() \u001B[39mis\u001B[39;00m \u001B[39mnot\u001B[39;00m \u001B[39mNone\u001B[39;00m:\n",
      "File \u001B[1;32mc:\\Users\\23174\\anaconda3\\envs\\pytorch\\lib\\site-packages\\matplotlib\\axis.py:1159\u001B[0m, in \u001B[0;36mAxis.draw\u001B[1;34m(self, renderer, *args, **kwargs)\u001B[0m\n\u001B[0;32m   1156\u001B[0m renderer\u001B[39m.\u001B[39mopen_group(\u001B[39m__name__\u001B[39m, gid\u001B[39m=\u001B[39m\u001B[39mself\u001B[39m\u001B[39m.\u001B[39mget_gid())\n\u001B[0;32m   1158\u001B[0m ticks_to_draw \u001B[39m=\u001B[39m \u001B[39mself\u001B[39m\u001B[39m.\u001B[39m_update_ticks()\n\u001B[1;32m-> 1159\u001B[0m ticklabelBoxes, ticklabelBoxes2 \u001B[39m=\u001B[39m \u001B[39mself\u001B[39;49m\u001B[39m.\u001B[39;49m_get_tick_bboxes(ticks_to_draw,\n\u001B[0;32m   1160\u001B[0m                                                         renderer)\n\u001B[0;32m   1162\u001B[0m \u001B[39mfor\u001B[39;00m tick \u001B[39min\u001B[39;00m ticks_to_draw:\n\u001B[0;32m   1163\u001B[0m     tick\u001B[39m.\u001B[39mdraw(renderer)\n",
      "File \u001B[1;32mc:\\Users\\23174\\anaconda3\\envs\\pytorch\\lib\\site-packages\\matplotlib\\axis.py:1085\u001B[0m, in \u001B[0;36mAxis._get_tick_bboxes\u001B[1;34m(self, ticks, renderer)\u001B[0m\n\u001B[0;32m   1083\u001B[0m \u001B[39mdef\u001B[39;00m \u001B[39m_get_tick_bboxes\u001B[39m(\u001B[39mself\u001B[39m, ticks, renderer):\n\u001B[0;32m   1084\u001B[0m     \u001B[39m\"\"\"Return lists of bboxes for ticks' label1's and label2's.\"\"\"\u001B[39;00m\n\u001B[1;32m-> 1085\u001B[0m     \u001B[39mreturn\u001B[39;00m ([tick\u001B[39m.\u001B[39mlabel1\u001B[39m.\u001B[39mget_window_extent(renderer)\n\u001B[0;32m   1086\u001B[0m              \u001B[39mfor\u001B[39;00m tick \u001B[39min\u001B[39;00m ticks \u001B[39mif\u001B[39;00m tick\u001B[39m.\u001B[39mlabel1\u001B[39m.\u001B[39mget_visible()],\n\u001B[0;32m   1087\u001B[0m             [tick\u001B[39m.\u001B[39mlabel2\u001B[39m.\u001B[39mget_window_extent(renderer)\n\u001B[0;32m   1088\u001B[0m              \u001B[39mfor\u001B[39;00m tick \u001B[39min\u001B[39;00m ticks \u001B[39mif\u001B[39;00m tick\u001B[39m.\u001B[39mlabel2\u001B[39m.\u001B[39mget_visible()])\n",
      "File \u001B[1;32mc:\\Users\\23174\\anaconda3\\envs\\pytorch\\lib\\site-packages\\matplotlib\\axis.py:1085\u001B[0m, in \u001B[0;36m<listcomp>\u001B[1;34m(.0)\u001B[0m\n\u001B[0;32m   1083\u001B[0m \u001B[39mdef\u001B[39;00m \u001B[39m_get_tick_bboxes\u001B[39m(\u001B[39mself\u001B[39m, ticks, renderer):\n\u001B[0;32m   1084\u001B[0m     \u001B[39m\"\"\"Return lists of bboxes for ticks' label1's and label2's.\"\"\"\u001B[39;00m\n\u001B[1;32m-> 1085\u001B[0m     \u001B[39mreturn\u001B[39;00m ([tick\u001B[39m.\u001B[39;49mlabel1\u001B[39m.\u001B[39;49mget_window_extent(renderer)\n\u001B[0;32m   1086\u001B[0m              \u001B[39mfor\u001B[39;00m tick \u001B[39min\u001B[39;00m ticks \u001B[39mif\u001B[39;00m tick\u001B[39m.\u001B[39mlabel1\u001B[39m.\u001B[39mget_visible()],\n\u001B[0;32m   1087\u001B[0m             [tick\u001B[39m.\u001B[39mlabel2\u001B[39m.\u001B[39mget_window_extent(renderer)\n\u001B[0;32m   1088\u001B[0m              \u001B[39mfor\u001B[39;00m tick \u001B[39min\u001B[39;00m ticks \u001B[39mif\u001B[39;00m tick\u001B[39m.\u001B[39mlabel2\u001B[39m.\u001B[39mget_visible()])\n",
      "File \u001B[1;32mc:\\Users\\23174\\anaconda3\\envs\\pytorch\\lib\\site-packages\\matplotlib\\text.py:910\u001B[0m, in \u001B[0;36mText.get_window_extent\u001B[1;34m(self, renderer, dpi)\u001B[0m\n\u001B[0;32m    907\u001B[0m     \u001B[39mraise\u001B[39;00m \u001B[39mRuntimeError\u001B[39;00m(\u001B[39m'\u001B[39m\u001B[39mCannot get window extent w/o renderer\u001B[39m\u001B[39m'\u001B[39m)\n\u001B[0;32m    909\u001B[0m \u001B[39mwith\u001B[39;00m cbook\u001B[39m.\u001B[39m_setattr_cm(\u001B[39mself\u001B[39m\u001B[39m.\u001B[39mfigure, dpi\u001B[39m=\u001B[39mdpi):\n\u001B[1;32m--> 910\u001B[0m     bbox, info, descent \u001B[39m=\u001B[39m \u001B[39mself\u001B[39;49m\u001B[39m.\u001B[39;49m_get_layout(\u001B[39mself\u001B[39;49m\u001B[39m.\u001B[39;49m_renderer)\n\u001B[0;32m    911\u001B[0m     x, y \u001B[39m=\u001B[39m \u001B[39mself\u001B[39m\u001B[39m.\u001B[39mget_unitless_position()\n\u001B[0;32m    912\u001B[0m     x, y \u001B[39m=\u001B[39m \u001B[39mself\u001B[39m\u001B[39m.\u001B[39mget_transform()\u001B[39m.\u001B[39mtransform((x, y))\n",
      "File \u001B[1;32mc:\\Users\\23174\\anaconda3\\envs\\pytorch\\lib\\site-packages\\matplotlib\\text.py:309\u001B[0m, in \u001B[0;36mText._get_layout\u001B[1;34m(self, renderer)\u001B[0m\n\u001B[0;32m    306\u001B[0m ys \u001B[39m=\u001B[39m []\n\u001B[0;32m    308\u001B[0m \u001B[39m# Full vertical extent of font, including ascenders and descenders:\u001B[39;00m\n\u001B[1;32m--> 309\u001B[0m _, lp_h, lp_d \u001B[39m=\u001B[39m renderer\u001B[39m.\u001B[39;49mget_text_width_height_descent(\n\u001B[0;32m    310\u001B[0m     \u001B[39m\"\u001B[39;49m\u001B[39mlp\u001B[39;49m\u001B[39m\"\u001B[39;49m, \u001B[39mself\u001B[39;49m\u001B[39m.\u001B[39;49m_fontproperties,\n\u001B[0;32m    311\u001B[0m     ismath\u001B[39m=\u001B[39;49m\u001B[39m\"\u001B[39;49m\u001B[39mTeX\u001B[39;49m\u001B[39m\"\u001B[39;49m \u001B[39mif\u001B[39;49;00m \u001B[39mself\u001B[39;49m\u001B[39m.\u001B[39;49mget_usetex() \u001B[39melse\u001B[39;49;00m \u001B[39mFalse\u001B[39;49;00m)\n\u001B[0;32m    312\u001B[0m min_dy \u001B[39m=\u001B[39m (lp_h \u001B[39m-\u001B[39m lp_d) \u001B[39m*\u001B[39m \u001B[39mself\u001B[39m\u001B[39m.\u001B[39m_linespacing\n\u001B[0;32m    314\u001B[0m \u001B[39mfor\u001B[39;00m i, line \u001B[39min\u001B[39;00m \u001B[39menumerate\u001B[39m(lines):\n",
      "File \u001B[1;32mc:\\Users\\23174\\anaconda3\\envs\\pytorch\\lib\\site-packages\\matplotlib\\backends\\backend_svg.py:1276\u001B[0m, in \u001B[0;36mRendererSVG.get_text_width_height_descent\u001B[1;34m(self, s, prop, ismath)\u001B[0m\n\u001B[0;32m   1274\u001B[0m \u001B[39mdef\u001B[39;00m \u001B[39mget_text_width_height_descent\u001B[39m(\u001B[39mself\u001B[39m, s, prop, ismath):\n\u001B[0;32m   1275\u001B[0m     \u001B[39m# docstring inherited\u001B[39;00m\n\u001B[1;32m-> 1276\u001B[0m     \u001B[39mreturn\u001B[39;00m \u001B[39mself\u001B[39;49m\u001B[39m.\u001B[39;49m_text2path\u001B[39m.\u001B[39;49mget_text_width_height_descent(s, prop, ismath)\n",
      "File \u001B[1;32mc:\\Users\\23174\\anaconda3\\envs\\pytorch\\lib\\site-packages\\matplotlib\\textpath.py:65\u001B[0m, in \u001B[0;36mTextToPath.get_text_width_height_descent\u001B[1;34m(self, s, prop, ismath)\u001B[0m\n\u001B[0;32m     62\u001B[0m     \u001B[39mreturn\u001B[39;00m width \u001B[39m*\u001B[39m scale, height \u001B[39m*\u001B[39m scale, descent \u001B[39m*\u001B[39m scale\n\u001B[0;32m     64\u001B[0m font \u001B[39m=\u001B[39m \u001B[39mself\u001B[39m\u001B[39m.\u001B[39m_get_font(prop)\n\u001B[1;32m---> 65\u001B[0m font\u001B[39m.\u001B[39;49mset_text(s, \u001B[39m0.0\u001B[39;49m, flags\u001B[39m=\u001B[39;49mLOAD_NO_HINTING)\n\u001B[0;32m     66\u001B[0m w, h \u001B[39m=\u001B[39m font\u001B[39m.\u001B[39mget_width_height()\n\u001B[0;32m     67\u001B[0m w \u001B[39m/\u001B[39m\u001B[39m=\u001B[39m \u001B[39m64.0\u001B[39m  \u001B[39m# convert from subpixels\u001B[39;00m\n",
      "\u001B[1;31mKeyboardInterrupt\u001B[0m: "
     ]
    },
    {
     "data": {
      "image/svg+xml": "<?xml version=\"1.0\" encoding=\"utf-8\" standalone=\"no\"?>\n<!DOCTYPE svg PUBLIC \"-//W3C//DTD SVG 1.1//EN\"\n  \"http://www.w3.org/Graphics/SVG/1.1/DTD/svg11.dtd\">\n<svg xmlns:xlink=\"http://www.w3.org/1999/xlink\" width=\"268.55pt\" height=\"183.35625pt\" viewBox=\"0 0 268.55 183.35625\" xmlns=\"http://www.w3.org/2000/svg\" version=\"1.1\">\n <metadata>\n  <rdf:RDF xmlns:dc=\"http://purl.org/dc/elements/1.1/\" xmlns:cc=\"http://creativecommons.org/ns#\" xmlns:rdf=\"http://www.w3.org/1999/02/22-rdf-syntax-ns#\">\n   <cc:Work>\n    <dc:type rdf:resource=\"http://purl.org/dc/dcmitype/StillImage\"/>\n    <dc:date>2022-12-07T21:03:06.280222</dc:date>\n    <dc:format>image/svg+xml</dc:format>\n    <dc:creator>\n     <cc:Agent>\n      <dc:title>Matplotlib v3.5.1, https://matplotlib.org/</dc:title>\n     </cc:Agent>\n    </dc:creator>\n   </cc:Work>\n  </rdf:RDF>\n </metadata>\n <defs>\n  <style type=\"text/css\">*{stroke-linejoin: round; stroke-linecap: butt}</style>\n </defs>\n <g id=\"figure_1\">\n  <g id=\"patch_1\">\n   <path d=\"M 0 183.35625 \nL 268.55 183.35625 \nL 268.55 0 \nL 0 0 \nz\n\" style=\"fill: #ffffff\"/>\n  </g>\n  <g id=\"axes_1\">\n   <g id=\"patch_2\">\n    <path d=\"M 50.14375 145.8 \nL 245.44375 145.8 \nL 245.44375 7.2 \nL 50.14375 7.2 \nz\n\" style=\"fill: #ffffff\"/>\n   </g>\n   <g id=\"matplotlib.axis_1\">\n    <g id=\"xtick_1\">\n     <g id=\"line2d_1\">\n      <path d=\"M 89.172496 145.8 \nL 89.172496 7.2 \n\" clip-path=\"url(#pe2ad510a0e)\" style=\"fill: none; stroke: #b0b0b0; stroke-width: 0.8; stroke-linecap: square\"/>\n     </g>\n     <g id=\"line2d_2\">\n      <defs>\n       <path id=\"m13815c2d69\" d=\"M 0 0 \nL 0 3.5 \n\" style=\"stroke: #000000; stroke-width: 0.8\"/>\n      </defs>\n      <g>\n       <use xlink:href=\"#m13815c2d69\" x=\"89.172496\" y=\"145.8\" style=\"stroke: #000000; stroke-width: 0.8\"/>\n      </g>\n     </g>\n     <g id=\"text_1\">\n      <!-- 10000 -->\n      <g transform=\"translate(73.266246 160.398438)scale(0.1 -0.1)\">\n       <defs>\n        <path id=\"DejaVuSans-31\" d=\"M 794 531 \nL 1825 531 \nL 1825 4091 \nL 703 3866 \nL 703 4441 \nL 1819 4666 \nL 2450 4666 \nL 2450 531 \nL 3481 531 \nL 3481 0 \nL 794 0 \nL 794 531 \nz\n\" transform=\"scale(0.015625)\"/>\n        <path id=\"DejaVuSans-30\" d=\"M 2034 4250 \nQ 1547 4250 1301 3770 \nQ 1056 3291 1056 2328 \nQ 1056 1369 1301 889 \nQ 1547 409 2034 409 \nQ 2525 409 2770 889 \nQ 3016 1369 3016 2328 \nQ 3016 3291 2770 3770 \nQ 2525 4250 2034 4250 \nz\nM 2034 4750 \nQ 2819 4750 3233 4129 \nQ 3647 3509 3647 2328 \nQ 3647 1150 3233 529 \nQ 2819 -91 2034 -91 \nQ 1250 -91 836 529 \nQ 422 1150 422 2328 \nQ 422 3509 836 4129 \nQ 1250 4750 2034 4750 \nz\n\" transform=\"scale(0.015625)\"/>\n       </defs>\n       <use xlink:href=\"#DejaVuSans-31\"/>\n       <use xlink:href=\"#DejaVuSans-30\" x=\"63.623047\"/>\n       <use xlink:href=\"#DejaVuSans-30\" x=\"127.246094\"/>\n       <use xlink:href=\"#DejaVuSans-30\" x=\"190.869141\"/>\n       <use xlink:href=\"#DejaVuSans-30\" x=\"254.492188\"/>\n      </g>\n     </g>\n    </g>\n    <g id=\"xtick_2\">\n     <g id=\"line2d_3\">\n      <path d=\"M 128.240309 145.8 \nL 128.240309 7.2 \n\" clip-path=\"url(#pe2ad510a0e)\" style=\"fill: none; stroke: #b0b0b0; stroke-width: 0.8; stroke-linecap: square\"/>\n     </g>\n     <g id=\"line2d_4\">\n      <g>\n       <use xlink:href=\"#m13815c2d69\" x=\"128.240309\" y=\"145.8\" style=\"stroke: #000000; stroke-width: 0.8\"/>\n      </g>\n     </g>\n     <g id=\"text_2\">\n      <!-- 20000 -->\n      <g transform=\"translate(112.334059 160.398438)scale(0.1 -0.1)\">\n       <defs>\n        <path id=\"DejaVuSans-32\" d=\"M 1228 531 \nL 3431 531 \nL 3431 0 \nL 469 0 \nL 469 531 \nQ 828 903 1448 1529 \nQ 2069 2156 2228 2338 \nQ 2531 2678 2651 2914 \nQ 2772 3150 2772 3378 \nQ 2772 3750 2511 3984 \nQ 2250 4219 1831 4219 \nQ 1534 4219 1204 4116 \nQ 875 4013 500 3803 \nL 500 4441 \nQ 881 4594 1212 4672 \nQ 1544 4750 1819 4750 \nQ 2544 4750 2975 4387 \nQ 3406 4025 3406 3419 \nQ 3406 3131 3298 2873 \nQ 3191 2616 2906 2266 \nQ 2828 2175 2409 1742 \nQ 1991 1309 1228 531 \nz\n\" transform=\"scale(0.015625)\"/>\n       </defs>\n       <use xlink:href=\"#DejaVuSans-32\"/>\n       <use xlink:href=\"#DejaVuSans-30\" x=\"63.623047\"/>\n       <use xlink:href=\"#DejaVuSans-30\" x=\"127.246094\"/>\n       <use xlink:href=\"#DejaVuSans-30\" x=\"190.869141\"/>\n       <use xlink:href=\"#DejaVuSans-30\" x=\"254.492188\"/>\n      </g>\n     </g>\n    </g>\n    <g id=\"xtick_3\">\n     <g id=\"line2d_5\">\n      <path d=\"M 167.308123 145.8 \nL 167.308123 7.2 \n\" clip-path=\"url(#pe2ad510a0e)\" style=\"fill: none; stroke: #b0b0b0; stroke-width: 0.8; stroke-linecap: square\"/>\n     </g>\n     <g id=\"line2d_6\">\n      <g>\n       <use xlink:href=\"#m13815c2d69\" x=\"167.308123\" y=\"145.8\" style=\"stroke: #000000; stroke-width: 0.8\"/>\n      </g>\n     </g>\n     <g id=\"text_3\">\n      <!-- 30000 -->\n      <g transform=\"translate(151.401873 160.398438)scale(0.1 -0.1)\">\n       <defs>\n        <path id=\"DejaVuSans-33\" d=\"M 2597 2516 \nQ 3050 2419 3304 2112 \nQ 3559 1806 3559 1356 \nQ 3559 666 3084 287 \nQ 2609 -91 1734 -91 \nQ 1441 -91 1130 -33 \nQ 819 25 488 141 \nL 488 750 \nQ 750 597 1062 519 \nQ 1375 441 1716 441 \nQ 2309 441 2620 675 \nQ 2931 909 2931 1356 \nQ 2931 1769 2642 2001 \nQ 2353 2234 1838 2234 \nL 1294 2234 \nL 1294 2753 \nL 1863 2753 \nQ 2328 2753 2575 2939 \nQ 2822 3125 2822 3475 \nQ 2822 3834 2567 4026 \nQ 2313 4219 1838 4219 \nQ 1578 4219 1281 4162 \nQ 984 4106 628 3988 \nL 628 4550 \nQ 988 4650 1302 4700 \nQ 1616 4750 1894 4750 \nQ 2613 4750 3031 4423 \nQ 3450 4097 3450 3541 \nQ 3450 3153 3228 2886 \nQ 3006 2619 2597 2516 \nz\n\" transform=\"scale(0.015625)\"/>\n       </defs>\n       <use xlink:href=\"#DejaVuSans-33\"/>\n       <use xlink:href=\"#DejaVuSans-30\" x=\"63.623047\"/>\n       <use xlink:href=\"#DejaVuSans-30\" x=\"127.246094\"/>\n       <use xlink:href=\"#DejaVuSans-30\" x=\"190.869141\"/>\n       <use xlink:href=\"#DejaVuSans-30\" x=\"254.492188\"/>\n      </g>\n     </g>\n    </g>\n    <g id=\"xtick_4\">\n     <g id=\"line2d_7\">\n      <path d=\"M 206.375936 145.8 \nL 206.375936 7.2 \n\" clip-path=\"url(#pe2ad510a0e)\" style=\"fill: none; stroke: #b0b0b0; stroke-width: 0.8; stroke-linecap: square\"/>\n     </g>\n     <g id=\"line2d_8\">\n      <g>\n       <use xlink:href=\"#m13815c2d69\" x=\"206.375936\" y=\"145.8\" style=\"stroke: #000000; stroke-width: 0.8\"/>\n      </g>\n     </g>\n     <g id=\"text_4\">\n      <!-- 40000 -->\n      <g transform=\"translate(190.469686 160.398438)scale(0.1 -0.1)\">\n       <defs>\n        <path id=\"DejaVuSans-34\" d=\"M 2419 4116 \nL 825 1625 \nL 2419 1625 \nL 2419 4116 \nz\nM 2253 4666 \nL 3047 4666 \nL 3047 1625 \nL 3713 1625 \nL 3713 1100 \nL 3047 1100 \nL 3047 0 \nL 2419 0 \nL 2419 1100 \nL 313 1100 \nL 313 1709 \nL 2253 4666 \nz\n\" transform=\"scale(0.015625)\"/>\n       </defs>\n       <use xlink:href=\"#DejaVuSans-34\"/>\n       <use xlink:href=\"#DejaVuSans-30\" x=\"63.623047\"/>\n       <use xlink:href=\"#DejaVuSans-30\" x=\"127.246094\"/>\n       <use xlink:href=\"#DejaVuSans-30\" x=\"190.869141\"/>\n       <use xlink:href=\"#DejaVuSans-30\" x=\"254.492188\"/>\n      </g>\n     </g>\n    </g>\n    <g id=\"xtick_5\">\n     <g id=\"line2d_9\">\n      <path d=\"M 245.44375 145.8 \nL 245.44375 7.2 \n\" clip-path=\"url(#pe2ad510a0e)\" style=\"fill: none; stroke: #b0b0b0; stroke-width: 0.8; stroke-linecap: square\"/>\n     </g>\n     <g id=\"line2d_10\">\n      <g>\n       <use xlink:href=\"#m13815c2d69\" x=\"245.44375\" y=\"145.8\" style=\"stroke: #000000; stroke-width: 0.8\"/>\n      </g>\n     </g>\n     <g id=\"text_5\">\n      <!-- 50000 -->\n      <g transform=\"translate(229.5375 160.398438)scale(0.1 -0.1)\">\n       <defs>\n        <path id=\"DejaVuSans-35\" d=\"M 691 4666 \nL 3169 4666 \nL 3169 4134 \nL 1269 4134 \nL 1269 2991 \nQ 1406 3038 1543 3061 \nQ 1681 3084 1819 3084 \nQ 2600 3084 3056 2656 \nQ 3513 2228 3513 1497 \nQ 3513 744 3044 326 \nQ 2575 -91 1722 -91 \nQ 1428 -91 1123 -41 \nQ 819 9 494 109 \nL 494 744 \nQ 775 591 1075 516 \nQ 1375 441 1709 441 \nQ 2250 441 2565 725 \nQ 2881 1009 2881 1497 \nQ 2881 1984 2565 2268 \nQ 2250 2553 1709 2553 \nQ 1456 2553 1204 2497 \nQ 953 2441 691 2322 \nL 691 4666 \nz\n\" transform=\"scale(0.015625)\"/>\n       </defs>\n       <use xlink:href=\"#DejaVuSans-35\"/>\n       <use xlink:href=\"#DejaVuSans-30\" x=\"63.623047\"/>\n       <use xlink:href=\"#DejaVuSans-30\" x=\"127.246094\"/>\n       <use xlink:href=\"#DejaVuSans-30\" x=\"190.869141\"/>\n       <use xlink:href=\"#DejaVuSans-30\" x=\"254.492188\"/>\n      </g>\n     </g>\n    </g>\n    <g id=\"text_6\">\n     <!-- epoch -->\n     <g transform=\"translate(132.565625 174.076563)scale(0.1 -0.1)\">\n      <defs>\n       <path id=\"DejaVuSans-65\" d=\"M 3597 1894 \nL 3597 1613 \nL 953 1613 \nQ 991 1019 1311 708 \nQ 1631 397 2203 397 \nQ 2534 397 2845 478 \nQ 3156 559 3463 722 \nL 3463 178 \nQ 3153 47 2828 -22 \nQ 2503 -91 2169 -91 \nQ 1331 -91 842 396 \nQ 353 884 353 1716 \nQ 353 2575 817 3079 \nQ 1281 3584 2069 3584 \nQ 2775 3584 3186 3129 \nQ 3597 2675 3597 1894 \nz\nM 3022 2063 \nQ 3016 2534 2758 2815 \nQ 2500 3097 2075 3097 \nQ 1594 3097 1305 2825 \nQ 1016 2553 972 2059 \nL 3022 2063 \nz\n\" transform=\"scale(0.015625)\"/>\n       <path id=\"DejaVuSans-70\" d=\"M 1159 525 \nL 1159 -1331 \nL 581 -1331 \nL 581 3500 \nL 1159 3500 \nL 1159 2969 \nQ 1341 3281 1617 3432 \nQ 1894 3584 2278 3584 \nQ 2916 3584 3314 3078 \nQ 3713 2572 3713 1747 \nQ 3713 922 3314 415 \nQ 2916 -91 2278 -91 \nQ 1894 -91 1617 61 \nQ 1341 213 1159 525 \nz\nM 3116 1747 \nQ 3116 2381 2855 2742 \nQ 2594 3103 2138 3103 \nQ 1681 3103 1420 2742 \nQ 1159 2381 1159 1747 \nQ 1159 1113 1420 752 \nQ 1681 391 2138 391 \nQ 2594 391 2855 752 \nQ 3116 1113 3116 1747 \nz\n\" transform=\"scale(0.015625)\"/>\n       <path id=\"DejaVuSans-6f\" d=\"M 1959 3097 \nQ 1497 3097 1228 2736 \nQ 959 2375 959 1747 \nQ 959 1119 1226 758 \nQ 1494 397 1959 397 \nQ 2419 397 2687 759 \nQ 2956 1122 2956 1747 \nQ 2956 2369 2687 2733 \nQ 2419 3097 1959 3097 \nz\nM 1959 3584 \nQ 2709 3584 3137 3096 \nQ 3566 2609 3566 1747 \nQ 3566 888 3137 398 \nQ 2709 -91 1959 -91 \nQ 1206 -91 779 398 \nQ 353 888 353 1747 \nQ 353 2609 779 3096 \nQ 1206 3584 1959 3584 \nz\n\" transform=\"scale(0.015625)\"/>\n       <path id=\"DejaVuSans-63\" d=\"M 3122 3366 \nL 3122 2828 \nQ 2878 2963 2633 3030 \nQ 2388 3097 2138 3097 \nQ 1578 3097 1268 2742 \nQ 959 2388 959 1747 \nQ 959 1106 1268 751 \nQ 1578 397 2138 397 \nQ 2388 397 2633 464 \nQ 2878 531 3122 666 \nL 3122 134 \nQ 2881 22 2623 -34 \nQ 2366 -91 2075 -91 \nQ 1284 -91 818 406 \nQ 353 903 353 1747 \nQ 353 2603 823 3093 \nQ 1294 3584 2113 3584 \nQ 2378 3584 2631 3529 \nQ 2884 3475 3122 3366 \nz\n\" transform=\"scale(0.015625)\"/>\n       <path id=\"DejaVuSans-68\" d=\"M 3513 2113 \nL 3513 0 \nL 2938 0 \nL 2938 2094 \nQ 2938 2591 2744 2837 \nQ 2550 3084 2163 3084 \nQ 1697 3084 1428 2787 \nQ 1159 2491 1159 1978 \nL 1159 0 \nL 581 0 \nL 581 4863 \nL 1159 4863 \nL 1159 2956 \nQ 1366 3272 1645 3428 \nQ 1925 3584 2291 3584 \nQ 2894 3584 3203 3211 \nQ 3513 2838 3513 2113 \nz\n\" transform=\"scale(0.015625)\"/>\n      </defs>\n      <use xlink:href=\"#DejaVuSans-65\"/>\n      <use xlink:href=\"#DejaVuSans-70\" x=\"61.523438\"/>\n      <use xlink:href=\"#DejaVuSans-6f\" x=\"125\"/>\n      <use xlink:href=\"#DejaVuSans-63\" x=\"186.181641\"/>\n      <use xlink:href=\"#DejaVuSans-68\" x=\"241.162109\"/>\n     </g>\n    </g>\n   </g>\n   <g id=\"matplotlib.axis_2\">\n    <g id=\"ytick_1\">\n     <g id=\"line2d_11\">\n      <path d=\"M 50.14375 126.9 \nL 245.44375 126.9 \n\" clip-path=\"url(#pe2ad510a0e)\" style=\"fill: none; stroke: #b0b0b0; stroke-width: 0.8; stroke-linecap: square\"/>\n     </g>\n     <g id=\"line2d_12\">\n      <defs>\n       <path id=\"mddb546d597\" d=\"M 0 0 \nL -3.5 0 \n\" style=\"stroke: #000000; stroke-width: 0.8\"/>\n      </defs>\n      <g>\n       <use xlink:href=\"#mddb546d597\" x=\"50.14375\" y=\"126.9\" style=\"stroke: #000000; stroke-width: 0.8\"/>\n      </g>\n     </g>\n     <g id=\"text_7\">\n      <!-- 0.96 -->\n      <g transform=\"translate(20.878125 130.699219)scale(0.1 -0.1)\">\n       <defs>\n        <path id=\"DejaVuSans-2e\" d=\"M 684 794 \nL 1344 794 \nL 1344 0 \nL 684 0 \nL 684 794 \nz\n\" transform=\"scale(0.015625)\"/>\n        <path id=\"DejaVuSans-39\" d=\"M 703 97 \nL 703 672 \nQ 941 559 1184 500 \nQ 1428 441 1663 441 \nQ 2288 441 2617 861 \nQ 2947 1281 2994 2138 \nQ 2813 1869 2534 1725 \nQ 2256 1581 1919 1581 \nQ 1219 1581 811 2004 \nQ 403 2428 403 3163 \nQ 403 3881 828 4315 \nQ 1253 4750 1959 4750 \nQ 2769 4750 3195 4129 \nQ 3622 3509 3622 2328 \nQ 3622 1225 3098 567 \nQ 2575 -91 1691 -91 \nQ 1453 -91 1209 -44 \nQ 966 3 703 97 \nz\nM 1959 2075 \nQ 2384 2075 2632 2365 \nQ 2881 2656 2881 3163 \nQ 2881 3666 2632 3958 \nQ 2384 4250 1959 4250 \nQ 1534 4250 1286 3958 \nQ 1038 3666 1038 3163 \nQ 1038 2656 1286 2365 \nQ 1534 2075 1959 2075 \nz\n\" transform=\"scale(0.015625)\"/>\n        <path id=\"DejaVuSans-36\" d=\"M 2113 2584 \nQ 1688 2584 1439 2293 \nQ 1191 2003 1191 1497 \nQ 1191 994 1439 701 \nQ 1688 409 2113 409 \nQ 2538 409 2786 701 \nQ 3034 994 3034 1497 \nQ 3034 2003 2786 2293 \nQ 2538 2584 2113 2584 \nz\nM 3366 4563 \nL 3366 3988 \nQ 3128 4100 2886 4159 \nQ 2644 4219 2406 4219 \nQ 1781 4219 1451 3797 \nQ 1122 3375 1075 2522 \nQ 1259 2794 1537 2939 \nQ 1816 3084 2150 3084 \nQ 2853 3084 3261 2657 \nQ 3669 2231 3669 1497 \nQ 3669 778 3244 343 \nQ 2819 -91 2113 -91 \nQ 1303 -91 875 529 \nQ 447 1150 447 2328 \nQ 447 3434 972 4092 \nQ 1497 4750 2381 4750 \nQ 2619 4750 2861 4703 \nQ 3103 4656 3366 4563 \nz\n\" transform=\"scale(0.015625)\"/>\n       </defs>\n       <use xlink:href=\"#DejaVuSans-30\"/>\n       <use xlink:href=\"#DejaVuSans-2e\" x=\"63.623047\"/>\n       <use xlink:href=\"#DejaVuSans-39\" x=\"95.410156\"/>\n       <use xlink:href=\"#DejaVuSans-36\" x=\"159.033203\"/>\n      </g>\n     </g>\n    </g>\n    <g id=\"ytick_2\">\n     <g id=\"line2d_13\">\n      <path d=\"M 50.14375 101.7 \nL 245.44375 101.7 \n\" clip-path=\"url(#pe2ad510a0e)\" style=\"fill: none; stroke: #b0b0b0; stroke-width: 0.8; stroke-linecap: square\"/>\n     </g>\n     <g id=\"line2d_14\">\n      <g>\n       <use xlink:href=\"#mddb546d597\" x=\"50.14375\" y=\"101.7\" style=\"stroke: #000000; stroke-width: 0.8\"/>\n      </g>\n     </g>\n     <g id=\"text_8\">\n      <!-- 0.98 -->\n      <g transform=\"translate(20.878125 105.499219)scale(0.1 -0.1)\">\n       <defs>\n        <path id=\"DejaVuSans-38\" d=\"M 2034 2216 \nQ 1584 2216 1326 1975 \nQ 1069 1734 1069 1313 \nQ 1069 891 1326 650 \nQ 1584 409 2034 409 \nQ 2484 409 2743 651 \nQ 3003 894 3003 1313 \nQ 3003 1734 2745 1975 \nQ 2488 2216 2034 2216 \nz\nM 1403 2484 \nQ 997 2584 770 2862 \nQ 544 3141 544 3541 \nQ 544 4100 942 4425 \nQ 1341 4750 2034 4750 \nQ 2731 4750 3128 4425 \nQ 3525 4100 3525 3541 \nQ 3525 3141 3298 2862 \nQ 3072 2584 2669 2484 \nQ 3125 2378 3379 2068 \nQ 3634 1759 3634 1313 \nQ 3634 634 3220 271 \nQ 2806 -91 2034 -91 \nQ 1263 -91 848 271 \nQ 434 634 434 1313 \nQ 434 1759 690 2068 \nQ 947 2378 1403 2484 \nz\nM 1172 3481 \nQ 1172 3119 1398 2916 \nQ 1625 2713 2034 2713 \nQ 2441 2713 2670 2916 \nQ 2900 3119 2900 3481 \nQ 2900 3844 2670 4047 \nQ 2441 4250 2034 4250 \nQ 1625 4250 1398 4047 \nQ 1172 3844 1172 3481 \nz\n\" transform=\"scale(0.015625)\"/>\n       </defs>\n       <use xlink:href=\"#DejaVuSans-30\"/>\n       <use xlink:href=\"#DejaVuSans-2e\" x=\"63.623047\"/>\n       <use xlink:href=\"#DejaVuSans-39\" x=\"95.410156\"/>\n       <use xlink:href=\"#DejaVuSans-38\" x=\"159.033203\"/>\n      </g>\n     </g>\n    </g>\n    <g id=\"ytick_3\">\n     <g id=\"line2d_15\">\n      <path d=\"M 50.14375 76.5 \nL 245.44375 76.5 \n\" clip-path=\"url(#pe2ad510a0e)\" style=\"fill: none; stroke: #b0b0b0; stroke-width: 0.8; stroke-linecap: square\"/>\n     </g>\n     <g id=\"line2d_16\">\n      <g>\n       <use xlink:href=\"#mddb546d597\" x=\"50.14375\" y=\"76.5\" style=\"stroke: #000000; stroke-width: 0.8\"/>\n      </g>\n     </g>\n     <g id=\"text_9\">\n      <!-- 1.00 -->\n      <g transform=\"translate(20.878125 80.299219)scale(0.1 -0.1)\">\n       <use xlink:href=\"#DejaVuSans-31\"/>\n       <use xlink:href=\"#DejaVuSans-2e\" x=\"63.623047\"/>\n       <use xlink:href=\"#DejaVuSans-30\" x=\"95.410156\"/>\n       <use xlink:href=\"#DejaVuSans-30\" x=\"159.033203\"/>\n      </g>\n     </g>\n    </g>\n    <g id=\"ytick_4\">\n     <g id=\"line2d_17\">\n      <path d=\"M 50.14375 51.3 \nL 245.44375 51.3 \n\" clip-path=\"url(#pe2ad510a0e)\" style=\"fill: none; stroke: #b0b0b0; stroke-width: 0.8; stroke-linecap: square\"/>\n     </g>\n     <g id=\"line2d_18\">\n      <g>\n       <use xlink:href=\"#mddb546d597\" x=\"50.14375\" y=\"51.3\" style=\"stroke: #000000; stroke-width: 0.8\"/>\n      </g>\n     </g>\n     <g id=\"text_10\">\n      <!-- 1.02 -->\n      <g transform=\"translate(20.878125 55.099219)scale(0.1 -0.1)\">\n       <use xlink:href=\"#DejaVuSans-31\"/>\n       <use xlink:href=\"#DejaVuSans-2e\" x=\"63.623047\"/>\n       <use xlink:href=\"#DejaVuSans-30\" x=\"95.410156\"/>\n       <use xlink:href=\"#DejaVuSans-32\" x=\"159.033203\"/>\n      </g>\n     </g>\n    </g>\n    <g id=\"ytick_5\">\n     <g id=\"line2d_19\">\n      <path d=\"M 50.14375 26.1 \nL 245.44375 26.1 \n\" clip-path=\"url(#pe2ad510a0e)\" style=\"fill: none; stroke: #b0b0b0; stroke-width: 0.8; stroke-linecap: square\"/>\n     </g>\n     <g id=\"line2d_20\">\n      <g>\n       <use xlink:href=\"#mddb546d597\" x=\"50.14375\" y=\"26.1\" style=\"stroke: #000000; stroke-width: 0.8\"/>\n      </g>\n     </g>\n     <g id=\"text_11\">\n      <!-- 1.04 -->\n      <g transform=\"translate(20.878125 29.899219)scale(0.1 -0.1)\">\n       <use xlink:href=\"#DejaVuSans-31\"/>\n       <use xlink:href=\"#DejaVuSans-2e\" x=\"63.623047\"/>\n       <use xlink:href=\"#DejaVuSans-30\" x=\"95.410156\"/>\n       <use xlink:href=\"#DejaVuSans-34\" x=\"159.033203\"/>\n      </g>\n     </g>\n    </g>\n    <g id=\"text_12\">\n     <!-- perplexity -->\n     <g transform=\"translate(14.798437 101.626563)rotate(-90)scale(0.1 -0.1)\">\n      <defs>\n       <path id=\"DejaVuSans-72\" d=\"M 2631 2963 \nQ 2534 3019 2420 3045 \nQ 2306 3072 2169 3072 \nQ 1681 3072 1420 2755 \nQ 1159 2438 1159 1844 \nL 1159 0 \nL 581 0 \nL 581 3500 \nL 1159 3500 \nL 1159 2956 \nQ 1341 3275 1631 3429 \nQ 1922 3584 2338 3584 \nQ 2397 3584 2469 3576 \nQ 2541 3569 2628 3553 \nL 2631 2963 \nz\n\" transform=\"scale(0.015625)\"/>\n       <path id=\"DejaVuSans-6c\" d=\"M 603 4863 \nL 1178 4863 \nL 1178 0 \nL 603 0 \nL 603 4863 \nz\n\" transform=\"scale(0.015625)\"/>\n       <path id=\"DejaVuSans-78\" d=\"M 3513 3500 \nL 2247 1797 \nL 3578 0 \nL 2900 0 \nL 1881 1375 \nL 863 0 \nL 184 0 \nL 1544 1831 \nL 300 3500 \nL 978 3500 \nL 1906 2253 \nL 2834 3500 \nL 3513 3500 \nz\n\" transform=\"scale(0.015625)\"/>\n       <path id=\"DejaVuSans-69\" d=\"M 603 3500 \nL 1178 3500 \nL 1178 0 \nL 603 0 \nL 603 3500 \nz\nM 603 4863 \nL 1178 4863 \nL 1178 4134 \nL 603 4134 \nL 603 4863 \nz\n\" transform=\"scale(0.015625)\"/>\n       <path id=\"DejaVuSans-74\" d=\"M 1172 4494 \nL 1172 3500 \nL 2356 3500 \nL 2356 3053 \nL 1172 3053 \nL 1172 1153 \nQ 1172 725 1289 603 \nQ 1406 481 1766 481 \nL 2356 481 \nL 2356 0 \nL 1766 0 \nQ 1100 0 847 248 \nQ 594 497 594 1153 \nL 594 3053 \nL 172 3053 \nL 172 3500 \nL 594 3500 \nL 594 4494 \nL 1172 4494 \nz\n\" transform=\"scale(0.015625)\"/>\n       <path id=\"DejaVuSans-79\" d=\"M 2059 -325 \nQ 1816 -950 1584 -1140 \nQ 1353 -1331 966 -1331 \nL 506 -1331 \nL 506 -850 \nL 844 -850 \nQ 1081 -850 1212 -737 \nQ 1344 -625 1503 -206 \nL 1606 56 \nL 191 3500 \nL 800 3500 \nL 1894 763 \nL 2988 3500 \nL 3597 3500 \nL 2059 -325 \nz\n\" transform=\"scale(0.015625)\"/>\n      </defs>\n      <use xlink:href=\"#DejaVuSans-70\"/>\n      <use xlink:href=\"#DejaVuSans-65\" x=\"63.476562\"/>\n      <use xlink:href=\"#DejaVuSans-72\" x=\"125\"/>\n      <use xlink:href=\"#DejaVuSans-70\" x=\"166.113281\"/>\n      <use xlink:href=\"#DejaVuSans-6c\" x=\"229.589844\"/>\n      <use xlink:href=\"#DejaVuSans-65\" x=\"257.373047\"/>\n      <use xlink:href=\"#DejaVuSans-78\" x=\"317.146484\"/>\n      <use xlink:href=\"#DejaVuSans-69\" x=\"376.326172\"/>\n      <use xlink:href=\"#DejaVuSans-74\" x=\"404.109375\"/>\n      <use xlink:href=\"#DejaVuSans-79\" x=\"443.318359\"/>\n     </g>\n    </g>\n   </g>\n   <g id=\"line2d_21\">\n    <path d=\"M 50.14375 76.5 \nL 156.720745 76.5 \nL 156.720745 76.5 \n\" clip-path=\"url(#pe2ad510a0e)\" style=\"fill: none; stroke: #1f77b4; stroke-width: 1.5; stroke-linecap: square\"/>\n   </g>\n   <g id=\"patch_3\">\n    <path d=\"M 50.14375 145.8 \nL 50.14375 7.2 \n\" style=\"fill: none; stroke: #000000; stroke-width: 0.8; stroke-linejoin: miter; stroke-linecap: square\"/>\n   </g>\n   <g id=\"patch_4\">\n    <path d=\"M 245.44375 145.8 \nL 245.44375 7.2 \n\" style=\"fill: none; stroke: #000000; stroke-width: 0.8; stroke-linejoin: miter; stroke-linecap: square\"/>\n   </g>\n   <g id=\"patch_5\">\n    <path d=\"M 50.14375 145.8 \nL 245.44375 145.8 \n\" style=\"fill: none; stroke: #000000; stroke-width: 0.8; stroke-linejoin: miter; stroke-linecap: square\"/>\n   </g>\n   <g id=\"patch_6\">\n    <path d=\"M 50.14375 7.2 \nL 245.44375 7.2 \n\" style=\"fill: none; stroke: #000000; stroke-width: 0.8; stroke-linejoin: miter; stroke-linecap: square\"/>\n   </g>\n   <g id=\"legend_1\">\n    <g id=\"patch_7\">\n     <path d=\"M 183.16875 29.878125 \nL 238.44375 29.878125 \nQ 240.44375 29.878125 240.44375 27.878125 \nL 240.44375 14.2 \nQ 240.44375 12.2 238.44375 12.2 \nL 183.16875 12.2 \nQ 181.16875 12.2 181.16875 14.2 \nL 181.16875 27.878125 \nQ 181.16875 29.878125 183.16875 29.878125 \nz\n\" style=\"fill: #ffffff; opacity: 0.8; stroke: #cccccc; stroke-linejoin: miter\"/>\n    </g>\n    <g id=\"line2d_22\">\n     <path d=\"M 185.16875 20.298438 \nL 195.16875 20.298438 \nL 205.16875 20.298438 \n\" style=\"fill: none; stroke: #1f77b4; stroke-width: 1.5; stroke-linecap: square\"/>\n    </g>\n    <g id=\"text_13\">\n     <!-- train -->\n     <g transform=\"translate(213.16875 23.798438)scale(0.1 -0.1)\">\n      <defs>\n       <path id=\"DejaVuSans-61\" d=\"M 2194 1759 \nQ 1497 1759 1228 1600 \nQ 959 1441 959 1056 \nQ 959 750 1161 570 \nQ 1363 391 1709 391 \nQ 2188 391 2477 730 \nQ 2766 1069 2766 1631 \nL 2766 1759 \nL 2194 1759 \nz\nM 3341 1997 \nL 3341 0 \nL 2766 0 \nL 2766 531 \nQ 2569 213 2275 61 \nQ 1981 -91 1556 -91 \nQ 1019 -91 701 211 \nQ 384 513 384 1019 \nQ 384 1609 779 1909 \nQ 1175 2209 1959 2209 \nL 2766 2209 \nL 2766 2266 \nQ 2766 2663 2505 2880 \nQ 2244 3097 1772 3097 \nQ 1472 3097 1187 3025 \nQ 903 2953 641 2809 \nL 641 3341 \nQ 956 3463 1253 3523 \nQ 1550 3584 1831 3584 \nQ 2591 3584 2966 3190 \nQ 3341 2797 3341 1997 \nz\n\" transform=\"scale(0.015625)\"/>\n       <path id=\"DejaVuSans-6e\" d=\"M 3513 2113 \nL 3513 0 \nL 2938 0 \nL 2938 2094 \nQ 2938 2591 2744 2837 \nQ 2550 3084 2163 3084 \nQ 1697 3084 1428 2787 \nQ 1159 2491 1159 1978 \nL 1159 0 \nL 581 0 \nL 581 3500 \nL 1159 3500 \nL 1159 2956 \nQ 1366 3272 1645 3428 \nQ 1925 3584 2291 3584 \nQ 2894 3584 3203 3211 \nQ 3513 2838 3513 2113 \nz\n\" transform=\"scale(0.015625)\"/>\n      </defs>\n      <use xlink:href=\"#DejaVuSans-74\"/>\n      <use xlink:href=\"#DejaVuSans-72\" x=\"39.208984\"/>\n      <use xlink:href=\"#DejaVuSans-61\" x=\"80.322266\"/>\n      <use xlink:href=\"#DejaVuSans-69\" x=\"141.601562\"/>\n      <use xlink:href=\"#DejaVuSans-6e\" x=\"169.384766\"/>\n     </g>\n    </g>\n   </g>\n  </g>\n </g>\n <defs>\n  <clipPath id=\"pe2ad510a0e\">\n   <rect x=\"50.14375\" y=\"7.2\" width=\"195.3\" height=\"138.6\"/>\n  </clipPath>\n </defs>\n</svg>\n",
      "text/plain": [
       "<Figure size 350x250 with 1 Axes>"
      ]
     },
     "metadata": {},
     "output_type": "display_data"
    }
   ],
   "source": [
    "num_epochs, lr = 50000, 1\n",
    "# net.load_state_dict(torch.load(weight_path))\n",
    "d2l.train_ch8(net, train_iter, vocab, lr, num_epochs, device)"
   ]
  },
  {
   "cell_type": "code",
   "execution_count": 28,
   "id": "2c88e2fe",
   "metadata": {},
   "outputs": [],
   "source": [
    "weight_path = \"weight.pth\"\n",
    "torch.save(net.state_dict(), weight_path)"
   ]
  },
  {
   "cell_type": "code",
   "execution_count": 31,
   "id": "24de0825",
   "metadata": {},
   "outputs": [
    {
     "data": {
      "text/plain": [
       "'time traveller is used to travel around the word e dean at eight aale uot af coubr anowetee wave bjot of aomearand aid as wisthes ra yef tha tarea crish l sneght bee the mayour aid sayou sh t well umo on g omathis comes mode fere im the time travell'"
      ]
     },
     "execution_count": 31,
     "metadata": {},
     "output_type": "execute_result"
    }
   ],
   "source": [
    "d2l.predict_ch8('time traveller is used to travel around the word ', 200, net, vocab, device)"
   ]
  },
  {
   "cell_type": "markdown",
   "id": "47c6fb6e",
   "metadata": {
    "id": "47c6fb6e",
    "origin_pos": 37
   },
   "source": [
    "与上一节相比，由于深度学习框架的高级API对代码进行了更多的优化，\n",
    "该模型在较短的时间内达到了较低的困惑度。\n",
    "\n",
    "## 小结\n",
    "\n",
    "* 深度学习框架的高级API提供了循环神经网络层的实现。\n",
    "* 高级API的循环神经网络层返回一个输出和一个更新后的隐状态，我们还需要计算整个模型的输出层。\n",
    "* 相比从零开始实现的循环神经网络，使用高级API实现可以加速训练。\n",
    "\n",
    "## 练习\n",
    "\n",
    "1. 尝试使用高级API，能使循环神经网络模型过拟合吗？\n",
    "1. 如果在循环神经网络模型中增加隐藏层的数量会发生什么？能使模型正常工作吗？\n",
    "1. 尝试使用循环神经网络实现 :numref:`sec_sequence`的自回归模型。\n"
   ]
  },
  {
   "cell_type": "markdown",
   "id": "74aa8ff8",
   "metadata": {
    "id": "74aa8ff8",
    "origin_pos": 39,
    "tab": [
     "pytorch"
    ]
   },
   "source": [
    "[Discussions](https://discuss.d2l.ai/t/2106)\n"
   ]
  },
  {
   "cell_type": "markdown",
   "source": [
    "  假设有$x$头男生和$y$名女生， 验孕棒和抗原帮都有效，也就是阳性为两道杠，\n",
    "阴性为一道杠。那么有如下条件:\n",
    "\\begin{equations}\n",
    "x+y = 35\\\\\n",
    "0\\leq x\\leq 35\\\\\n",
    "0\\leq y\\leq 35\\\\\n",
    "\\end{equations}\n",
    "\n",
    "我们假设在男生中有$x_{covid}$ 人是新冠阳性，那么阴性的人数为:$x-x_{covid}$,\n",
    "同理有女生的$y_{covid}$。 我们再假设女生中有怀孕的人数为$y_{pregnant}$\n",
    ", 未怀孕的人为 $y-y_{pregnant}$。 而男性中怀孕人数为0， 未怀孕人数为$x$。\n",
    "至此，我们假设完毕。\n",
    "\n",
    "现在补充条件，女生中怀孕的不阳，阳的不怀孕。\n",
    "也就是说, 怀孕人数等于新冠阴性人数，不怀孕人数等于新冠阳性人数。\n",
    "\n",
    "也就是:\n",
    "\\begin{equations}\n",
    "y_{pregnant} = y-y_{covid}\\\\\n",
    "y-y_{pregnant} = y_{covid} \\\\\n",
    "\\end{equations}\n",
    "\n",
    "由于条件不全，我们假设所有学生都进行新冠的检测，只有女生进行怀孕检测，那么可以有:\n",
    "\n",
    "$$y = 46-35 = 11 $$\n",
    "\n",
    "$$x = 35-y = 24$$\n",
    "\n",
    "对于杠数:\n",
    "\n",
    "其中怀孕的杠数:\n",
    "$$N_{pregnant} = (y-y_{pregnant} ) +2\\times  y_{pregnant}  = y+ y_{pregnant} = 11+ y_{pregnant}$$\n",
    "\n",
    "其中新冠的杠数:\n",
    "\n",
    "$$N_{covid} = (x-x_{covid})+2\\times x_{covid}  +(y-y_{covid})+2\\times y_{covid}\n",
    "\n",
    "= x+y +(x_{covid} +y_{covid} ) = 35 + x_{covid} +y_{covid}\n",
    "$$\n",
    "\n",
    "\n",
    "\n",
    "\n",
    "\n",
    "由題意:\n",
    "\n",
    "$$ N_{pregnant} +   N_{covid}  =  46 +   x_{covid} +y_{covid}+ y_{pregnant} = 72 $$\n",
    "\n",
    "\n",
    "那麽 :\n",
    "\n",
    "$$    x_{covid} +y_{covid}+ y_{pregnant} = 26 $$\n",
    "從前面我們可以知道:\n",
    "$$ y_{covid}+ y_{pregnant} = y = 11  $$\n",
    "\n",
    "所以有：\n",
    "\n",
    "$$x_{covid} = 15  $$\n",
    "\n",
    "由此我們解得: 男生有24人 ， 女生11人， 陽性： 男生陽性15人， 女生陽性 不知，   女生懷孕人數也不知。"
   ],
   "metadata": {
    "collapsed": false
   }
  },
  {
   "cell_type": "code",
   "execution_count": null,
   "outputs": [],
   "source": [],
   "metadata": {
    "collapsed": false
   }
  }
 ],
 "metadata": {
  "accelerator": "GPU",
  "colab": {
   "provenance": [
    {
     "file_id": "https://github.com/d2l-ai/d2l-zh-pytorch-colab/blob/master/chapter_recurrent-neural-networks/rnn-concise.ipynb",
     "timestamp": 1670414217679
    }
   ]
  },
  "kernelspec": {
   "display_name": "Python 3.9.0 ('pytorch')",
   "language": "python",
   "name": "python3"
  },
  "language_info": {
   "codemirror_mode": {
    "name": "ipython",
    "version": 3
   },
   "file_extension": ".py",
   "mimetype": "text/x-python",
   "name": "python",
   "nbconvert_exporter": "python",
   "pygments_lexer": "ipython3",
   "version": "3.9.0"
  },
  "vscode": {
   "interpreter": {
    "hash": "4d1033d04cc2e012d9213db483b25cfc3a750e9011d8b7bb5f6874a2b4bd95be"
   }
  }
 },
 "nbformat": 4,
 "nbformat_minor": 5
}
