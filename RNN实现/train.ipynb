{
 "cells": [
  {
   "cell_type": "code",
   "execution_count": 1,
   "metadata": {
    "collapsed": true
   },
   "outputs": [
    {
     "ename": "TypeError",
     "evalue": "slice indices must be integers or None or have an __index__ method",
     "output_type": "error",
     "traceback": [
      "\u001B[1;31m---------------------------------------------------------------------------\u001B[0m",
      "\u001B[1;31mTypeError\u001B[0m                                 Traceback (most recent call last)",
      "Cell \u001B[1;32mIn [1], line 3\u001B[0m\n\u001B[0;32m      1\u001B[0m \u001B[38;5;28;01mfrom\u001B[39;00m \u001B[38;5;21;01mtrain\u001B[39;00m \u001B[38;5;28;01mimport\u001B[39;00m \u001B[38;5;241m*\u001B[39m\n\u001B[0;32m      2\u001B[0m \u001B[38;5;28;01mif\u001B[39;00m \u001B[38;5;18m__name__\u001B[39m \u001B[38;5;241m==\u001B[39m \u001B[38;5;124m'\u001B[39m\u001B[38;5;124m__main__\u001B[39m\u001B[38;5;124m'\u001B[39m:\n\u001B[1;32m----> 3\u001B[0m     \u001B[43mmain\u001B[49m\u001B[43m(\u001B[49m\u001B[43m)\u001B[49m\n",
      "File \u001B[1;32m~\\Desktop\\GitHub项目\\DeepLearningBasics\\DeepLearning-Basics\\大作业\\RNN实现\\train.py:79\u001B[0m, in \u001B[0;36mmain\u001B[1;34m()\u001B[0m\n\u001B[0;32m     77\u001B[0m \u001B[38;5;28;01mdef\u001B[39;00m \u001B[38;5;21mmain\u001B[39m():\n\u001B[0;32m     78\u001B[0m     batch_size, num_steps \u001B[38;5;241m=\u001B[39m \u001B[38;5;241m128\u001B[39m, \u001B[38;5;241m128\u001B[39m\n\u001B[1;32m---> 79\u001B[0m     train_iter, vocab \u001B[38;5;241m=\u001B[39m \u001B[43mDataCollect\u001B[49m\u001B[38;5;241;43m.\u001B[39;49m\u001B[43mload_data_fiction\u001B[49m\u001B[43m(\u001B[49m\u001B[43mbatch_size\u001B[49m\u001B[43m,\u001B[49m\u001B[43m \u001B[49m\u001B[43mnum_steps\u001B[49m\u001B[43m,\u001B[49m\u001B[43m \u001B[49m\u001B[43muse_random_iter\u001B[49m\u001B[38;5;241;43m=\u001B[39;49m\u001B[38;5;28;43;01mTrue\u001B[39;49;00m\u001B[43m)\u001B[49m\n\u001B[0;32m     80\u001B[0m     num_hiddens \u001B[38;5;241m=\u001B[39m \u001B[38;5;241m4096\u001B[39m\n\u001B[0;32m     81\u001B[0m     rnn_layer \u001B[38;5;241m=\u001B[39m nn\u001B[38;5;241m.\u001B[39mRNN(\u001B[38;5;28mlen\u001B[39m(vocab), num_hiddens)\n",
      "File \u001B[1;32m~\\Desktop\\GitHub项目\\DeepLearningBasics\\DeepLearning-Basics\\大作业\\RNN实现\\DataCollect.py:200\u001B[0m, in \u001B[0;36mload_data_fiction\u001B[1;34m(batch_size, num_steps, use_random_iter, max_tokens)\u001B[0m\n\u001B[0;32m    197\u001B[0m \u001B[38;5;28;01mdef\u001B[39;00m \u001B[38;5;21mload_data_fiction\u001B[39m(batch_size, num_steps,\n\u001B[0;32m    198\u001B[0m                            use_random_iter\u001B[38;5;241m=\u001B[39m\u001B[38;5;28;01mFalse\u001B[39;00m, max_tokens\u001B[38;5;241m=\u001B[39m\u001B[38;5;241m1e5\u001B[39m):\n\u001B[0;32m    199\u001B[0m     \u001B[38;5;124;03m\"\"\"返回小说的迭代器和词元。\"\"\"\u001B[39;00m\n\u001B[1;32m--> 200\u001B[0m     data_iter \u001B[38;5;241m=\u001B[39m \u001B[43mSeqDataLoader\u001B[49m\u001B[43m(\u001B[49m\n\u001B[0;32m    201\u001B[0m \u001B[43m        \u001B[49m\u001B[43mbatch_size\u001B[49m\u001B[43m,\u001B[49m\u001B[43m \u001B[49m\u001B[43mnum_steps\u001B[49m\u001B[43m,\u001B[49m\u001B[43m \u001B[49m\u001B[43muse_random_iter\u001B[49m\u001B[43m,\u001B[49m\u001B[43m \u001B[49m\u001B[43mmax_tokens\u001B[49m\u001B[43m)\u001B[49m\n\u001B[0;32m    202\u001B[0m     \u001B[38;5;28;01mreturn\u001B[39;00m data_iter, data_iter\u001B[38;5;241m.\u001B[39mvocab\n",
      "File \u001B[1;32m~\\Desktop\\GitHub项目\\DeepLearningBasics\\DeepLearning-Basics\\大作业\\RNN实现\\DataCollect.py:188\u001B[0m, in \u001B[0;36mSeqDataLoader.__init__\u001B[1;34m(self, batch_size, num_steps, use_random_iter, max_tokens)\u001B[0m\n\u001B[0;32m    186\u001B[0m     \u001B[38;5;28mself\u001B[39m\u001B[38;5;241m.\u001B[39mdata_iter_fn \u001B[38;5;241m=\u001B[39m seq_data_iter_sequential\n\u001B[0;32m    187\u001B[0m \u001B[38;5;66;03m# 加载时光机数据集并创建词典\u001B[39;00m\n\u001B[1;32m--> 188\u001B[0m \u001B[38;5;28mself\u001B[39m\u001B[38;5;241m.\u001B[39mcorpus, \u001B[38;5;28mself\u001B[39m\u001B[38;5;241m.\u001B[39mvocab \u001B[38;5;241m=\u001B[39m \u001B[43mload_corpus_fiction\u001B[49m\u001B[43m(\u001B[49m\u001B[43mmax_tokens\u001B[49m\u001B[43m)\u001B[49m\n\u001B[0;32m    189\u001B[0m \u001B[38;5;28mself\u001B[39m\u001B[38;5;241m.\u001B[39mbatch_size, \u001B[38;5;28mself\u001B[39m\u001B[38;5;241m.\u001B[39mnum_steps \u001B[38;5;241m=\u001B[39m batch_size, num_steps\n",
      "File \u001B[1;32m~\\Desktop\\GitHub项目\\DeepLearningBasics\\DeepLearning-Basics\\大作业\\RNN实现\\DataCollect.py:117\u001B[0m, in \u001B[0;36mload_corpus_fiction\u001B[1;34m(max_tokens)\u001B[0m\n\u001B[0;32m    114\u001B[0m corpus \u001B[38;5;241m=\u001B[39m [vocab[token] \u001B[38;5;28;01mfor\u001B[39;00m line \u001B[38;5;129;01min\u001B[39;00m tokens \u001B[38;5;28;01mfor\u001B[39;00m token \u001B[38;5;129;01min\u001B[39;00m line]\n\u001B[0;32m    115\u001B[0m \u001B[38;5;28;01mif\u001B[39;00m max_tokens \u001B[38;5;241m>\u001B[39m \u001B[38;5;241m0\u001B[39m:\n\u001B[0;32m    116\u001B[0m     \u001B[38;5;66;03m# 如果指定了最大标记数，则只保留前max_tokens个标记\u001B[39;00m\n\u001B[1;32m--> 117\u001B[0m     corpus \u001B[38;5;241m=\u001B[39m \u001B[43mcorpus\u001B[49m\u001B[43m[\u001B[49m\u001B[43m:\u001B[49m\u001B[43mmax_tokens\u001B[49m\u001B[43m]\u001B[49m\n\u001B[0;32m    118\u001B[0m \u001B[38;5;28;01mreturn\u001B[39;00m corpus, vocab\n",
      "\u001B[1;31mTypeError\u001B[0m: slice indices must be integers or None or have an __index__ method"
     ]
    }
   ],
   "source": [
    "from train import *\n",
    "if __name__ == '__main__':\n",
    "    main()"
   ]
  },
  {
   "cell_type": "code",
   "execution_count": 2,
   "outputs": [
    {
     "name": "stdout",
     "output_type": "stream",
     "text": [
      "你是谁？                                                                                                                                                                                                                                                                                                                                                                                                                                                                                                                                                                                                                                                                                                                                                                                                                                                                                                                                                                                                                                        \n"
     ]
    }
   ],
   "source": [
    "import predict\n",
    "predict.main()"
   ],
   "metadata": {
    "collapsed": false
   }
  },
  {
   "cell_type": "code",
   "execution_count": null,
   "outputs": [],
   "source": [],
   "metadata": {
    "collapsed": false
   }
  }
 ],
 "metadata": {
  "kernelspec": {
   "display_name": "Python 3",
   "language": "python",
   "name": "python3"
  },
  "language_info": {
   "codemirror_mode": {
    "name": "ipython",
    "version": 2
   },
   "file_extension": ".py",
   "mimetype": "text/x-python",
   "name": "python",
   "nbconvert_exporter": "python",
   "pygments_lexer": "ipython2",
   "version": "2.7.6"
  }
 },
 "nbformat": 4,
 "nbformat_minor": 0
}
